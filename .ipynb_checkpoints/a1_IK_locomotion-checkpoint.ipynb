{
 "cells": [
  {
   "cell_type": "code",
   "execution_count": 1,
   "id": "f32cf523",
   "metadata": {},
   "outputs": [
    {
     "name": "stderr",
     "output_type": "stream",
     "text": [
      "pybullet build time: May 20 2022 19:44:17\n"
     ]
    }
   ],
   "source": [
    "import pybullet as p\n",
    "import time\n",
    "import math\n",
    "from datetime import datetime"
   ]
  },
  {
   "cell_type": "code",
   "execution_count": 2,
   "id": "9d9c1a20",
   "metadata": {},
   "outputs": [
    {
     "name": "stdout",
     "output_type": "stream",
     "text": [
      "startThreads creating 1 threads.\n"
     ]
    },
    {
     "name": "stderr",
     "output_type": "stream",
     "text": [
      "GL error 0x500 detected in glGenBuffers\n"
     ]
    },
    {
     "data": {
      "text/plain": [
       "0"
      ]
     },
     "execution_count": 2,
     "metadata": {},
     "output_type": "execute_result"
    },
    {
     "name": "stdout",
     "output_type": "stream",
     "text": [
      "starting thread 0\n",
      "started thread 0 \n",
      "argc=2\n",
      "argv[0] = --unused\n",
      "argv[1] = --start_demo_name=Physics Server\n",
      "ExampleBrowserThreadFunc started\n",
      "X11 functions dynamically loaded using dlopen/dlsym OK!\n",
      "X11 functions dynamically loaded using dlopen/dlsym OK!\n",
      "Creating context\n",
      "Created GL 3.3 context\n",
      "Direct GLX rendering context obtained\n",
      "Making context current\n",
      "GL_VENDOR=Microsoft Corporation\n",
      "GL_RENDERER=D3D12 (Intel(R) Iris(R) Xe Graphics)\n",
      "GL_VERSION=3.3 (Core Profile) Mesa 21.2.6\n",
      "GL_SHADING_LANGUAGE_VERSION=3.30\n",
      "pthread_getconcurrency()=0\n",
      "Version = 3.3 (Core Profile) Mesa 21.2.6\n",
      "Vendor = Microsoft Corporation\n",
      "Renderer = D3D12 (Intel(R) Iris(R) Xe Graphics)\n",
      "b3Printf: Selected demo: Physics Server\n",
      "startThreads creating 1 threads.\n",
      "starting thread 0\n",
      "started thread 0 \n",
      "MotionThreadFunc thread started\n"
     ]
    }
   ],
   "source": [
    "p.connect(p.GUI)\n",
    "# p.connect(p.DIRECT)"
   ]
  },
  {
   "cell_type": "code",
   "execution_count": 3,
   "id": "bdf83bb2",
   "metadata": {},
   "outputs": [
    {
     "name": "stdout",
     "output_type": "stream",
     "text": [
      "ven = Microsoft Corporation\n",
      "ven = Microsoft Corporation\n",
      "b3Printf: b3Warning[examples/Importers/ImportURDFDemo/BulletUrdfImporter.cpp,126]:\n",
      "\n",
      "b3Printf: No inertial data for link, using mass=1, localinertiadiagonal = 1,1,1, identity local inertial frame\n",
      "b3Printf: b3Warning[examples/Importers/ImportURDFDemo/BulletUrdfImporter.cpp,126]:\n",
      "\n",
      "b3Printf: base\n"
     ]
    }
   ],
   "source": [
    "# class Dog:\n",
    "p.resetSimulation()\n",
    "plane = p.loadURDF(\"plane.urdf\")\n",
    "p.setGravity(0,0,-9.8)\n",
    "p.setTimeStep(1./500)\n",
    "p.setRealTimeSimulation(1)\n",
    "#p.setDefaultContactERP(0)\n",
    "#urdfFlags = p.URDF_USE_SELF_COLLISION+p.URDF_USE_SELF_COLLISION_EXCLUDE_ALL_PARENTS\n",
    "urdfFlags = p.URDF_USE_SELF_COLLISION\n",
    "quadruped = p.loadURDF(\"a1/urdf/a1.urdf\",[0,0,0.48],[0,0,0,1], flags = urdfFlags,useFixedBase=0)\n",
    "quadNumJoints = p.getNumJoints(quadruped)"
   ]
  },
  {
   "cell_type": "code",
   "execution_count": 4,
   "id": "d6698fe1",
   "metadata": {},
   "outputs": [
    {
     "name": "stdout",
     "output_type": "stream",
     "text": [
      "((-1.4248182552283058e-19, 3.557370672565792e-20, 0.45392402311598884), (-2.3657663214080715e-19, -2.8361124930084267e-18, -9.134395372859014e-20, 1.0))\n"
     ]
    }
   ],
   "source": [
    "#enable collision between lower legs\n",
    "# for j in range (quadNumJoints):\n",
    "#         print(p.getJointInfo(quadruped,j))\n",
    "\n",
    "#    2, b'FR_hip_joint'    - JOINT\n",
    "#    3, b'FR_thigh_joint'  - JOINT\n",
    "#    4, b'FR_calf_joint'   - JOINT\n",
    "#    5, b'FR_foot_fixed'   - END-EFFECTOR\n",
    "#    6, b'FL_hip_joint'    - JOINT\n",
    "#    7, b'FL_thigh_joint'  - JOINT\n",
    "#    8, b'FL_calf_joint'   - JOINT\n",
    "#    9, b'FL_foot_fixed'   - END-EFFECTOR\n",
    "#    10, b'RR_hip_joint'   - JOINT\n",
    "#    11, b'RR_thigh_joint' - JOINT\n",
    "#    12, b'RR_calf_joint'  - JOINT\n",
    "#    13, b'RR_foot_fixed'  - END-EFFECTOR\n",
    "#    14, b'RL_hip_joint'   - JOINT\n",
    "#    15, b'RL_thigh_joint' - JOINT\n",
    "#    16, b'RL_calf_joint'  - JOINT\n",
    "#    17, b'RL_foot_fixed'  - END-EFFECTOR\n",
    "\n",
    "end_effectors = [5, 9, 13, 17]\n",
    "\n",
    "# DOESNT MAKE SENSE:\n",
    "# lower_legs = [2,5,8,11]\n",
    "# for l0 in lower_legs:\n",
    "#     for l1 in lower_legs:\n",
    "#         if (l1>l0):\n",
    "#             enableCollision = 1\n",
    "#             #print(\"collision for pair\",l0,l1, p.getJointInfo(quadruped,l0)[12],p.getJointInfo(quadruped,l1)[12], \"enabled=\",enableCollision)\n",
    "#             p.setCollisionFilterPair(quadruped, quadruped, 2,5,enableCollision)\n",
    "\n",
    "jointIds=[]\n",
    "paramIds=[]\n",
    "\n",
    "maxForceId = p.addUserDebugParameter(\"maxForce\",0,100,20)\n",
    "\n",
    "for j in range (quadNumJoints):\n",
    "    p.changeDynamics(quadruped,j,linearDamping=0, angularDamping=0)\n",
    "    info = p.getJointInfo(quadruped,j)\n",
    "#     print(info)\n",
    "    jointType = info[2]\n",
    "    if (jointType==p.JOINT_PRISMATIC or jointType==p.JOINT_REVOLUTE):\n",
    "        jointIds.append(j)\n",
    "\n",
    "# print(jointIds)\n",
    "\n",
    "p.getCameraImage(480,320)\n",
    "\n",
    "\n",
    "joints=[]\n",
    "t = 0  #time set to 0\n",
    "prev_pos = p.getBasePositionAndOrientation(quadruped)\n",
    "print(prev_pos)\n",
    "\n",
    "FR_pos = p.getJointState(quadruped, end_effectors[0])\n",
    "FL_pos = p.getJointState(quadruped, end_effectors[1])\n",
    "BR_pos = p.getJointState(quadruped, end_effectors[2])\n",
    "BL_pos = p.getJointState(quadruped, end_effectors[3])\n",
    "# print(FR_pos, FL_pos, BR_pos, BL_pos)"
   ]
  },
  {
   "cell_type": "code",
   "execution_count": 6,
   "id": "39c18c0d",
   "metadata": {},
   "outputs": [
    {
     "ename": "KeyboardInterrupt",
     "evalue": "",
     "output_type": "error",
     "traceback": [
      "\u001b[0;31m---------------------------------------------------------------------------\u001b[0m",
      "\u001b[0;31mKeyboardInterrupt\u001b[0m                         Traceback (most recent call last)",
      "\u001b[1;32m/mnt/c/Users/david/Pybullet Projects/unitree_A1_ewing/a1_IK_locomotion.ipynb Cell 5'\u001b[0m in \u001b[0;36m<cell line: 40>\u001b[0;34m()\u001b[0m\n\u001b[1;32m     <a href='vscode-notebook-cell://wsl%2Bubuntu/mnt/c/Users/david/Pybullet%20Projects/unitree_A1_ewing/a1_IK_locomotion.ipynb#ch0000004vscode-remote?line=63'>64</a>\u001b[0m \u001b[39mfor\u001b[39;00m i \u001b[39min\u001b[39;00m \u001b[39mrange\u001b[39m(\u001b[39m4\u001b[39m):\n\u001b[1;32m     <a href='vscode-notebook-cell://wsl%2Bubuntu/mnt/c/Users/david/Pybullet%20Projects/unitree_A1_ewing/a1_IK_locomotion.ipynb#ch0000004vscode-remote?line=64'>65</a>\u001b[0m \n\u001b[1;32m     <a href='vscode-notebook-cell://wsl%2Bubuntu/mnt/c/Users/david/Pybullet%20Projects/unitree_A1_ewing/a1_IK_locomotion.ipynb#ch0000004vscode-remote?line=65'>66</a>\u001b[0m \u001b[39m# translating position in degrees to motor positions:            \u001b[39;00m\n\u001b[1;32m     <a href='vscode-notebook-cell://wsl%2Bubuntu/mnt/c/Users/david/Pybullet%20Projects/unitree_A1_ewing/a1_IK_locomotion.ipynb#ch0000004vscode-remote?line=67'>68</a>\u001b[0m     proportion1 \u001b[39m=\u001b[39m thigh_range \u001b[39m/\u001b[39m \u001b[39m2\u001b[39m \u001b[39m# divide by the y range of sin\u001b[39;00m\n\u001b[0;32m---> <a href='vscode-notebook-cell://wsl%2Bubuntu/mnt/c/Users/david/Pybullet%20Projects/unitree_A1_ewing/a1_IK_locomotion.ipynb#ch0000004vscode-remote?line=68'>69</a>\u001b[0m     theta1 \u001b[39m=\u001b[39m proportion1 \u001b[39m*\u001b[39m (math\u001b[39m.\u001b[39;49msin(t \u001b[39m+\u001b[39;49m phi[i]) \u001b[39m+\u001b[39m \u001b[39m1\u001b[39m) \u001b[39m+\u001b[39m thigh_min \u001b[39m# offset the sin curve so it is all positive\u001b[39;00m\n\u001b[1;32m     <a href='vscode-notebook-cell://wsl%2Bubuntu/mnt/c/Users/david/Pybullet%20Projects/unitree_A1_ewing/a1_IK_locomotion.ipynb#ch0000004vscode-remote?line=70'>71</a>\u001b[0m     proportion2 \u001b[39m=\u001b[39m calf_range \u001b[39m/\u001b[39m \u001b[39m2\u001b[39m\n\u001b[1;32m     <a href='vscode-notebook-cell://wsl%2Bubuntu/mnt/c/Users/david/Pybullet%20Projects/unitree_A1_ewing/a1_IK_locomotion.ipynb#ch0000004vscode-remote?line=71'>72</a>\u001b[0m     theta2 \u001b[39m=\u001b[39m proportion2 \u001b[39m*\u001b[39m (math\u001b[39m.\u001b[39mcos(t \u001b[39m+\u001b[39m phi[i]) \u001b[39m+\u001b[39m \u001b[39m1\u001b[39m) \u001b[39m+\u001b[39m calf_min\n",
      "\u001b[0;31mKeyboardInterrupt\u001b[0m: "
     ]
    }
   ],
   "source": [
    "#gait pattern w/o limits\n",
    "useRealTimeSimulation = 1\n",
    "\n",
    "#phase of each leg\n",
    "phi_FR = 0\n",
    "phi_FL = 4.*math.pi / 4\n",
    "phi_BR = 4.*math.pi / 4\n",
    "phi_BL = 0.*math.pi / 4\n",
    "phi = [phi_FR, phi_FL, phi_BR, phi_BL]\n",
    "\n",
    "leg_FR = [2, 3, 4]\n",
    "leg_FL = [6, 7, 8]\n",
    "leg_BR = [10, 11, 12]\n",
    "leg_BL = [14, 15, 16]\n",
    "joint_Id = [leg_FR, leg_FL, leg_BR, leg_BL]\n",
    "\n",
    "# motor ranges without swing ratio\n",
    "thigh_min = 3/16*math.pi\n",
    "thigh_range = 4/16*math.pi - thigh_min\n",
    "\n",
    "calf_min = -6/16*math.pi\n",
    "calf_range = -5/16*math.pi - calf_min \n",
    "\n",
    "# motor ranges with swing ratio\n",
    "thigh_swing_min = 6/32*math.pi\n",
    "thigh_swing_range = 7/32*math.pi - thigh_swing_min\n",
    "\n",
    "calf_swing_min = -6/16*math.pi\n",
    "calf_swing_range = -11/32*math.pi - calf_swing_min\n",
    "thigh_stance_min = 7/32*math.pi\n",
    "thigh_stance_range = 8/32*math.pi - thigh_stance_min\n",
    "\n",
    "calf_stance_min = -11/32*math.pi\n",
    "calf_stance_range = -10/32*math.pi - calf_stance_min\n",
    "\n",
    "\n",
    "while(1):\n",
    "    \n",
    "    #sets the time frequency of simulation\n",
    "    if (useRealTimeSimulation):\n",
    "        magnitude = 100000\n",
    "        period = 10 # a multiple of 100\n",
    "        dt = datetime.now()\n",
    "        time = (dt.microsecond + (dt.second * 1000000))\n",
    "        t = (((time / magnitude) % period) / period) * 2. * math.pi # gets an angle between 0 and 2pi \n",
    "    else: \n",
    "        if(t >= 2.*math.pi):\n",
    "            t = 0\n",
    "        else:\n",
    "            t = t + (2.*math.pi)/12000\n",
    "        p.stepSimulation()        \n",
    "    \n",
    "    # each leg can be treated as a 2-dof robotic arm: governing equations:\n",
    "    #     x = l1 * cos(theta1) + l2 * cos(theta1 + theta2)\n",
    "    #     y = l1 * sin(theta1) + l2 * sin(theta1 + theta2)\n",
    "    # theoretical inverse kinematics: \n",
    "    #     theta2 = math.acos((pow(x, 2) + pow(y, 2) - pow(l1, 2) - pow(l2, 2))/(2*l1*l2)\n",
    "    #     theta1 = math.atan(y/x) - math.atan((l2*math.sin(theta2))/(l1 + l2*math.cos(theta2)))\n",
    "    \n",
    "    # calf motor range: -1/4pi to -7/8pi (usable range: -1/4pi to -7/8pi)\n",
    "    # thigh motor range: -1/4pi to 11/8pi (usable range: -1/4pi to 1/2pi)\n",
    "    \n",
    "    #calculates gait cycle for each leg separately according to each phase\n",
    "    for i in range(4):\n",
    "    \n",
    "    # translating position in degrees to motor positions:            \n",
    "\n",
    "        proportion1 = thigh_range / 2 # divide by the y range of sin\n",
    "        theta1 = proportion1 * (math.sin(t + phi[i]) + 1) + thigh_min # offset the sin curve so it is all positive\n",
    "\n",
    "        proportion2 = calf_range / 2\n",
    "        theta2 = proportion2 * (math.cos(t + phi[i]) + 1) + calf_min\n",
    "\n",
    "        motor_angles = [0., theta1, theta2] \n",
    "        motor_velocity_slow = [0., .01, .01]\n",
    "        motor_velocity_fast = [0., .02, .02]\n",
    "        \n",
    "        motor_force = [0, .005, .005]\n",
    "\n",
    "        p.setJointMotorControlArray(quadruped,\n",
    "                       joint_Id[i], \n",
    "                       p.POSITION_CONTROL, \n",
    "                       motor_angles, \n",
    "                       motor_force)\n",
    "\n",
    "    # need to separate the range of motion into \"stance\" and \"swing\"\n",
    "\n",
    "#         swing_ratio = .75\n",
    "#         stance_ratio = 1.-swing_ratio\n",
    "        \n",
    "#         motor_force = [0, .005, .005]\n",
    "\n",
    "#         if((math.sin(t + phi[i])) < (swing_ratio*2*math.pi)): #slow down when touching the ground, speed up when off the ground\n",
    "       \n",
    "#             proportion_stance = 2*math.pi / (2*math.pi*stance_ratio)\n",
    "#             t_stance = proportion * (t + phi[i]) + (2*math.pi - 2*math.pi*stance_ratio)\n",
    "\n",
    "#             proportion_thigh_stance = thigh_stance_range /2\n",
    "#             theta_thigh_stance = proportion_thigh_stance * (math.sin(t_stance)) + thigh_stance_min\n",
    "\n",
    "#             proportion_calf_stance = calf_stance_range /2\n",
    "#             theta_calf_stance = proportion_calf_stance * (math.cos(t_stance))  + calf_stance_min\n",
    "\n",
    "#             motor_angles_stance = [0., theta_thigh_stance, theta_calf_stance] \n",
    "\n",
    "#             p.setJointMotorControlArray(quadruped,\n",
    "#                                    joint_Id[i], \n",
    "#                                    p.POSITION_CONTROL, \n",
    "#                                    motor_angles_stance, \n",
    "#                                    motor_force)\n",
    "#         else: \n",
    "#             proportion_swing = 2*math.pi / (2*math.pi*swing_ratio)\n",
    "#             t_swing = proportion * (t + phi[i]) + (2*math.pi - 2*math.pi*swing_ratio)\n",
    "            \n",
    "#             proportion_thigh_swing = thigh_swing_range /2\n",
    "#             theta_thigh_swing = proportion_thigh_swing * (math.sin(t_swing)) + thigh_swing_min\n",
    "\n",
    "#             proportion_calf_swing = calf_swing_range /2\n",
    "#             theta_calf_swing = proportion_calf_swing * (math.cos(t_swing)) + calf_swing_min\n",
    "\n",
    "#             motor_angles_swing = [0., theta_thigh_swing, theta_calf_swing]\n",
    "\n",
    "#             p.setJointMotorControlArray(quadruped,\n",
    "#                                    joint_Id[i], \n",
    "#                                    p.POSITION_CONTROL, \n",
    "#                                    motor_angles_swing, \n",
    "#                                    motor_force)\n",
    "        \n",
    "\n",
    "\n",
    "#         if(i == 1):\n",
    "#             print(theta1)\n",
    "        \n",
    "    "
   ]
  },
  {
   "cell_type": "code",
   "execution_count": null,
   "id": "94f3c5ab",
   "metadata": {},
   "outputs": [],
   "source": [
    "p.resetSimulation()"
   ]
  },
  {
   "cell_type": "code",
   "execution_count": 7,
   "id": "82508367",
   "metadata": {},
   "outputs": [
    {
     "name": "stdout",
     "output_type": "stream",
     "text": [
      "numActiveThreads = 0\n",
      "stopping threads\n",
      "Thread with taskId 0 exiting\n",
      "Thread TERMINATED\n",
      "destroy semaphore\n",
      "semaphore destroyed\n",
      "destroy main semaphore\n",
      "main semaphore destroyed\n",
      "finished\n",
      "numActiveThreads = 0\n",
      "btShutDownExampleBrowser stopping threads\n",
      "Thread with taskId 0 exiting\n",
      "Thread TERMINATED\n",
      "destroy semaphore\n",
      "semaphore destroyed\n",
      "destroy main semaphore\n",
      "main semaphore destroyed\n"
     ]
    }
   ],
   "source": [
    "p.disconnect()"
   ]
  }
 ],
 "metadata": {
  "kernelspec": {
   "display_name": "Python 3 (ipykernel)",
   "language": "python",
   "name": "python3"
  },
  "language_info": {
   "codemirror_mode": {
    "name": "ipython",
    "version": 3
   },
   "file_extension": ".py",
   "mimetype": "text/x-python",
   "name": "python",
   "nbconvert_exporter": "python",
   "pygments_lexer": "ipython3",
   "version": "3.10.4"
  },
  "vscode": {
   "interpreter": {
    "hash": "c99fe1247001ff9689d9faff4dbb0aa981d3b3fc7fcf8f57078ecb9a7c217558"
   }
  }
 },
 "nbformat": 4,
 "nbformat_minor": 5
}
