{
 "cells": [
  {
   "cell_type": "code",
   "execution_count": 2,
   "id": "f32cf523",
   "metadata": {},
   "outputs": [
    {
     "ename": "ImportError",
     "evalue": "attempted relative import beyond top-level package",
     "output_type": "error",
     "traceback": [
      "\u001b[0;31m---------------------------------------------------------------------------\u001b[0m",
      "\u001b[0;31mImportError\u001b[0m                               Traceback (most recent call last)",
      "Input \u001b[0;32mIn [2]\u001b[0m, in \u001b[0;36m<cell line: 15>\u001b[0;34m()\u001b[0m\n\u001b[1;32m     13\u001b[0m \u001b[38;5;28;01mfrom\u001b[39;00m \u001b[38;5;21;01ma1_bezier\u001b[39;00m\u001b[38;5;21;01m.\u001b[39;00m\u001b[38;5;21;01mA1OL\u001b[39;00m \u001b[38;5;28;01mimport\u001b[39;00m BezierStepper\n\u001b[1;32m     14\u001b[0m \u001b[38;5;28;01mfrom\u001b[39;00m \u001b[38;5;21;01ma1_bezier\u001b[39;00m\u001b[38;5;21;01m.\u001b[39;00m\u001b[38;5;21;01mA1Kinematics\u001b[39;00m \u001b[38;5;28;01mimport\u001b[39;00m A1Model\n\u001b[0;32m---> 15\u001b[0m \u001b[38;5;28;01mfrom\u001b[39;00m \u001b[38;5;21;01ma1_bezier\u001b[39;00m\u001b[38;5;21;01m.\u001b[39;00m\u001b[38;5;21;01ma1_bezier_env\u001b[39;00m \u001b[38;5;28;01mimport\u001b[39;00m a1BezierEnv\n\u001b[1;32m     16\u001b[0m \u001b[38;5;28;01mfrom\u001b[39;00m \u001b[38;5;21;01ma1_bezier\u001b[39;00m\u001b[38;5;21;01m.\u001b[39;00m\u001b[38;5;21;01mgui\u001b[39;00m \u001b[38;5;28;01mimport\u001b[39;00m GUI\n",
      "File \u001b[0;32m/mnt/c/Users/david/Pybullet Projects/unitree_A1-ewing/a1_bezier/a1_bezier_env.py:12\u001b[0m, in \u001b[0;36m<module>\u001b[0;34m\u001b[0m\n\u001b[1;32m     10\u001b[0m \u001b[38;5;28;01mfrom\u001b[39;00m \u001b[38;5;21;01mgym\u001b[39;00m\u001b[38;5;21;01m.\u001b[39;00m\u001b[38;5;21;01mutils\u001b[39;00m \u001b[38;5;28;01mimport\u001b[39;00m seeding\n\u001b[1;32m     11\u001b[0m \u001b[38;5;28;01mfrom\u001b[39;00m \u001b[38;5;21;01mpkg_resources\u001b[39;00m \u001b[38;5;28;01mimport\u001b[39;00m parse_version\n\u001b[0;32m---> 12\u001b[0m \u001b[38;5;28;01mfrom\u001b[39;00m \u001b[38;5;21;01ma1_bezier\u001b[39;00m\u001b[38;5;21;01m.\u001b[39;00m\u001b[38;5;21;01ma1\u001b[39;00m \u001b[38;5;28;01mimport\u001b[39;00m a1\n\u001b[1;32m     13\u001b[0m \u001b[38;5;28;01mimport\u001b[39;00m \u001b[38;5;21;01mpybullet_utils\u001b[39;00m\u001b[38;5;21;01m.\u001b[39;00m\u001b[38;5;21;01mbullet_client\u001b[39;00m \u001b[38;5;28;01mas\u001b[39;00m \u001b[38;5;21;01mbullet_client\u001b[39;00m\n\u001b[1;32m     14\u001b[0m \u001b[38;5;28;01mfrom\u001b[39;00m \u001b[38;5;21;01mgym\u001b[39;00m\u001b[38;5;21;01m.\u001b[39;00m\u001b[38;5;21;01menvs\u001b[39;00m\u001b[38;5;21;01m.\u001b[39;00m\u001b[38;5;21;01mregistration\u001b[39;00m \u001b[38;5;28;01mimport\u001b[39;00m register\n",
      "File \u001b[0;32m/mnt/c/Users/david/Pybullet Projects/unitree_A1-ewing/a1_bezier/a1.py:20\u001b[0m, in \u001b[0;36m<module>\u001b[0;34m\u001b[0m\n\u001b[1;32m     18\u001b[0m \u001b[38;5;28;01mimport\u001b[39;00m \u001b[38;5;21;01mnumpy\u001b[39;00m \u001b[38;5;28;01mas\u001b[39;00m \u001b[38;5;21;01mnp\u001b[39;00m\n\u001b[1;32m     19\u001b[0m \u001b[38;5;28;01mfrom\u001b[39;00m \u001b[38;5;21;01m.\u001b[39;00m \u001b[38;5;28;01mimport\u001b[39;00m motor\n\u001b[0;32m---> 20\u001b[0m \u001b[38;5;28;01mfrom\u001b[39;00m \u001b[38;5;21;01m.\u001b[39;00m\u001b[38;5;21;01m.\u001b[39;00m\u001b[38;5;21;01mspot_kinematics\u001b[39;00m\u001b[38;5;21;01m.\u001b[39;00m\u001b[38;5;21;01mutil\u001b[39;00m \u001b[38;5;28;01mimport\u001b[39;00m pybullet_data\n\u001b[1;32m     21\u001b[0m \u001b[38;5;66;03m# print(pybullet_data.getDataPath())\u001b[39;00m\n\u001b[1;32m     22\u001b[0m \u001b[38;5;28;01mfrom\u001b[39;00m \u001b[38;5;21;01ma1_bezier\u001b[39;00m\u001b[38;5;21;01m.\u001b[39;00m\u001b[38;5;21;01mA1Kinematics\u001b[39;00m \u001b[38;5;28;01mimport\u001b[39;00m A1Model\n",
      "\u001b[0;31mImportError\u001b[0m: attempted relative import beyond top-level package"
     ]
    }
   ],
   "source": [
    "import pybullet as p\n",
    "import time\n",
    "import math\n",
    "from datetime import datetime\n",
    "import numpy as np\n",
    "import copy\n",
    "import matplotlib.pyplot as plt\n",
    "import sys\n",
    "\n",
    "sys.path.append('../../')\n",
    "\n",
    "from a1_bezier.Bezier import BezierGait\n",
    "from a1_bezier.A1OL import BezierStepper\n",
    "from a1_bezier.A1Kinematics import A1Model\n",
    "from a1_bezier.a1_bezier_env import a1BezierEnv\n",
    "from a1_bezier.gui import GUI\n"
   ]
  },
  {
   "cell_type": "code",
   "execution_count": 2,
   "id": "9d9c1a20",
   "metadata": {},
   "outputs": [
    {
     "name": "stderr",
     "output_type": "stream",
     "text": [
      "GL error 0x500 detected in glGenBuffers\n"
     ]
    },
    {
     "data": {
      "text/plain": [
       "0"
      ]
     },
     "execution_count": 2,
     "metadata": {},
     "output_type": "execute_result"
    }
   ],
   "source": [
    "p.connect(p.GUI)\n",
    "# p.connect(p.DIRECT)"
   ]
  },
  {
   "cell_type": "code",
   "execution_count": 3,
   "id": "bdf83bb2",
   "metadata": {},
   "outputs": [],
   "source": [
    "# class Dog:\n",
    "p.resetSimulation()\n",
    "plane = p.loadURDF(\"plane.urdf\")\n",
    "p.setGravity(0,0,-9.8)\n",
    "p.setTimeStep(1./500)\n",
    "p.setRealTimeSimulation(1)\n",
    "#p.setDefaultContactERP(0)\n",
    "#urdfFlags = p.URDF_USE_SELF_COLLISION+p.URDF_USE_SELF_COLLISION_EXCLUDE_ALL_PARENTS\n",
    "urdfFlags = p.URDF_USE_SELF_COLLISION\n",
    "quadruped = p.loadURDF(\"data/a1/urdf/a1.urdf\",[0,0,0.48],[0,0,0,1], flags = urdfFlags,useFixedBase=0)\n",
    "quadNumJoints = p.getNumJoints(quadruped)"
   ]
  },
  {
   "cell_type": "code",
   "execution_count": 4,
   "id": "d6698fe1",
   "metadata": {},
   "outputs": [
    {
     "name": "stdout",
     "output_type": "stream",
     "text": [
      "((0.0005929958706419392, 0.00022777865301784947, 0.41999114451911135), (0.0004885806924958259, 9.340747232685309e-08, -2.6894427554173845e-05, 0.9999998802827867))\n"
     ]
    }
   ],
   "source": [
    "#enable collision between lower legs\n",
    "# for j in range (quadNumJoints):\n",
    "#         print(p.getJointInfo(quadruped,j))\n",
    "\n",
    "#    2, b'FR_hip_joint'    - JOINT\n",
    "#    3, b'FR_thigh_joint'  - JOINT\n",
    "#    4, b'FR_calf_joint'   - JOINT\n",
    "#    5, b'FR_foot_fixed'   - END-EFFECTOR\n",
    "#    6, b'FL_hip_joint'    - JOINT\n",
    "#    7, b'FL_thigh_joint'  - JOINT\n",
    "#    8, b'FL_calf_joint'   - JOINT\n",
    "#    9, b'FL_foot_fixed'   - END-EFFECTOR\n",
    "#    10, b'RR_hip_joint'   - JOINT\n",
    "#    11, b'RR_thigh_joint' - JOINT\n",
    "#    12, b'RR_calf_joint'  - JOINT\n",
    "#    13, b'RR_foot_fixed'  - END-EFFECTOR\n",
    "#    14, b'RL_hip_joint'   - JOINT\n",
    "#    15, b'RL_thigh_joint' - JOINT\n",
    "#    16, b'RL_calf_joint'  - JOINT\n",
    "#    17, b'RL_foot_fixed'  - END-EFFECTOR\n",
    "\n",
    "end_effectors = [5, 9, 13, 17]\n",
    "\n",
    "jointIds=[]\n",
    "paramIds=[]\n",
    "\n",
    "maxForceId = p.addUserDebugParameter(\"maxForce\",0,100,20)\n",
    "\n",
    "for j in range (quadNumJoints):\n",
    "    p.changeDynamics(quadruped,j,linearDamping=0, angularDamping=0)\n",
    "    info = p.getJointInfo(quadruped,j)\n",
    "#     print(info)\n",
    "    jointType = info[2]\n",
    "    if (jointType==p.JOINT_PRISMATIC or jointType==p.JOINT_REVOLUTE):\n",
    "        jointIds.append(j)\n",
    "\n",
    "# print(jointIds)\n",
    "\n",
    "p.getCameraImage(480,320)\n",
    "\n",
    "\n",
    "joints=[]\n",
    "t = 0  #time set to 0\n",
    "prev_pos = p.getBasePositionAndOrientation(quadruped)\n",
    "print(prev_pos)\n",
    "\n",
    "FR_pos = p.getJointState(quadruped, end_effectors[0])\n",
    "FL_pos = p.getJointState(quadruped, end_effectors[1])\n",
    "BR_pos = p.getJointState(quadruped, end_effectors[2])\n",
    "BL_pos = p.getJointState(quadruped, end_effectors[3])\n",
    "# print(FR_pos, FL_pos, BR_pos, BL_pos)\n",
    "\n",
    "max_timesteps = 4e6\n",
    "\n",
    "env = a1BezierEnv(render=True,\n",
    "                    on_rack=False,\n",
    "                    height_field=False,\n",
    "                    draw_foot_path=False,\n",
    "                    env_randomizer=None)\n",
    "\n",
    "state = env.reset()"
   ]
  },
  {
   "cell_type": "code",
   "execution_count": 5,
   "id": "39c18c0d",
   "metadata": {},
   "outputs": [
    {
     "ename": "error",
     "evalue": "Not connected to physics server.",
     "output_type": "error",
     "traceback": [
      "\u001b[0;31m---------------------------------------------------------------------------\u001b[0m",
      "\u001b[0;31merror\u001b[0m                                     Traceback (most recent call last)",
      "Input \u001b[0;32mIn [5]\u001b[0m, in \u001b[0;36m<cell line: 37>\u001b[0;34m()\u001b[0m\n\u001b[1;32m     76\u001b[0m motor_velocity_fast \u001b[38;5;241m=\u001b[39m [\u001b[38;5;241m0.\u001b[39m, \u001b[38;5;241m.02\u001b[39m, \u001b[38;5;241m.02\u001b[39m]\n\u001b[1;32m     78\u001b[0m motor_force \u001b[38;5;241m=\u001b[39m [\u001b[38;5;241m0\u001b[39m, \u001b[38;5;241m.005\u001b[39m, \u001b[38;5;241m.005\u001b[39m]\n\u001b[0;32m---> 80\u001b[0m \u001b[43mp\u001b[49m\u001b[38;5;241;43m.\u001b[39;49m\u001b[43msetJointMotorControlArray\u001b[49m\u001b[43m(\u001b[49m\u001b[43mquadruped\u001b[49m\u001b[43m,\u001b[49m\n\u001b[1;32m     81\u001b[0m \u001b[43m               \u001b[49m\u001b[43mjoint_Id\u001b[49m\u001b[43m[\u001b[49m\u001b[43mi\u001b[49m\u001b[43m]\u001b[49m\u001b[43m,\u001b[49m\u001b[43m \u001b[49m\n\u001b[1;32m     82\u001b[0m \u001b[43m               \u001b[49m\u001b[43mp\u001b[49m\u001b[38;5;241;43m.\u001b[39;49m\u001b[43mPOSITION_CONTROL\u001b[49m\u001b[43m,\u001b[49m\u001b[43m \u001b[49m\n\u001b[1;32m     83\u001b[0m \u001b[43m               \u001b[49m\u001b[43mmotor_angles\u001b[49m\u001b[43m,\u001b[49m\u001b[43m \u001b[49m\n\u001b[1;32m     84\u001b[0m \u001b[43m               \u001b[49m\u001b[43mmotor_force\u001b[49m\u001b[43m)\u001b[49m\n",
      "\u001b[0;31merror\u001b[0m: Not connected to physics server."
     ]
    }
   ],
   "source": [
    "#gait pattern w/o limits\n",
    "useRealTimeSimulation = 1\n",
    "\n",
    "#phase of each leg\n",
    "phi_FR = 0\n",
    "phi_FL = 4.*math.pi / 4\n",
    "phi_BR = 4.*math.pi / 4\n",
    "phi_BL = 0.*math.pi / 4\n",
    "phi = [phi_FR, phi_FL, phi_BR, phi_BL]\n",
    "\n",
    "leg_FR = [2, 3, 4]\n",
    "leg_FL = [6, 7, 8]\n",
    "leg_BR = [10, 11, 12]\n",
    "leg_BL = [14, 15, 16]\n",
    "joint_Id = [leg_FR, leg_FL, leg_BR, leg_BL]\n",
    "\n",
    "time_step = 1\n",
    "\n",
    "g_u_i = GUI(env.spot.quadruped)\n",
    "\n",
    "a1 = A1Model()\n",
    "T_bf0 = a1.WorldToFoot\n",
    "T_bf = copy.deepcopy(T_bf0)\n",
    "\n",
    "FL_phases = []\n",
    "FR_phases = []\n",
    "BL_phases = []\n",
    "BR_phases = []\n",
    "\n",
    "FL_Elbow = []\n",
    "\n",
    "yaw = 0.0\n",
    "\n",
    "bzg = BezierGait(dt=time_step)\n",
    "bz_step = BezierStepper(dt=time_step, mode=0)\n",
    "action = env.action_space.sample()\n",
    "\n",
    "t = 0\n",
    "while t < (int(max_timesteps)):\n",
    "\n",
    "    bz_step.ramp_up()\n",
    "\n",
    "    pos, orn, StepLength, LateralFraction, YawRate, StepVelocity, ClearanceHeight, PenetrationDepth = bz_step.StateMachine()\n",
    "\n",
    "    pos, orn, StepLength, LateralFraction, YawRate, StepVelocity, ClearanceHeight, PenetrationDepth, SwingPeriod = g_u_i.UserInput()\n",
    "\n",
    "    # Update Swing Period\n",
    "    bzg.Tswing = SwingPeriod\n",
    "\n",
    "    # yaw = env.return_yaw()\n",
    "    # P_yaw = 5.0\n",
    "    # if ARGS.AutoYaw:\n",
    "    #     YawRate += -yaw * P_yaw\n",
    "    # print(\"YAW RATE: {}\".format(YawRate))\n",
    "\n",
    "    # TEMP\n",
    "    bz_step.StepLength = StepLength\n",
    "    bz_step.LateralFraction = LateralFraction\n",
    "    bz_step.YawRate = YawRate\n",
    "    bz_step.StepVelocity = StepVelocity\n",
    "\n",
    "    contacts = state[-4:] # retrives all elements after the fourth element\n",
    "\n",
    "    FL_phases.append(env.spot.LegPhases[0])\n",
    "    FR_phases.append(env.spot.LegPhases[1])\n",
    "    BL_phases.append(env.spot.LegPhases[2])\n",
    "    BR_phases.append(env.spot.LegPhases[3])\n",
    "\n",
    "    # Get Desired Foot Poses\n",
    "    T_bf = bzg.GenerateTrajectory(StepLength, LateralFraction, YawRate,\n",
    "                                    StepVelocity, T_bf0, T_bf,\n",
    "                                    ClearanceHeight, PenetrationDepth,\n",
    "                                    contacts)\n",
    "    joint_angles = a1.IK(orn, pos, T_bf)\n",
    "\n",
    "    FL_Elbow.append(np.degrees(joint_angles[0][-1]))\n",
    "\n",
    "    env.pass_joint_angles(joint_angles.reshape(-1))\n",
    "    # Get External Observations\n",
    "    env.spot.GetExternalObservations(bzg, bz_step)\n",
    "    # Step\n",
    "    state, reward, done, _ = env.step(action)\n",
    "\n",
    "    t += 1  \n",
    "    "
   ]
  },
  {
   "cell_type": "code",
   "execution_count": 7,
   "id": "94f3c5ab",
   "metadata": {},
   "outputs": [],
   "source": [
    "p.resetSimulation()"
   ]
  },
  {
   "cell_type": "code",
   "execution_count": 4,
   "id": "82508367",
   "metadata": {},
   "outputs": [],
   "source": [
    "p.disconnect()"
   ]
  }
 ],
 "metadata": {
  "kernelspec": {
   "display_name": "Python 3 (ipykernel)",
   "language": "python",
   "name": "python3"
  },
  "language_info": {
   "codemirror_mode": {
    "name": "ipython",
    "version": 3
   },
   "file_extension": ".py",
   "mimetype": "text/x-python",
   "name": "python",
   "nbconvert_exporter": "python",
   "pygments_lexer": "ipython3",
   "version": "3.10.4"
  },
  "vscode": {
   "interpreter": {
    "hash": "c99fe1247001ff9689d9faff4dbb0aa981d3b3fc7fcf8f57078ecb9a7c217558"
   }
  }
 },
 "nbformat": 4,
 "nbformat_minor": 5
}
