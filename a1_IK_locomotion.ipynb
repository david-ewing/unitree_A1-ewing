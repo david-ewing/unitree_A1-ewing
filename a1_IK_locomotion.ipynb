{
 "cells": [
  {
   "cell_type": "code",
   "execution_count": 1,
   "id": "f32cf523",
   "metadata": {},
   "outputs": [
    {
     "name": "stderr",
     "output_type": "stream",
     "text": [
      "pybullet build time: Jun  2 2022 15:41:26\n"
     ]
    }
   ],
   "source": [
    "import pybullet as p\n",
    "import time\n",
    "import math\n",
    "from datetime import datetime"
   ]
  },
  {
   "cell_type": "code",
   "execution_count": 1,
   "id": "039150fa",
   "metadata": {},
   "outputs": [
    {
     "name": "stderr",
     "output_type": "stream",
     "text": [
      "pybullet build time: Jun  2 2022 15:41:26\n"
     ]
    },
    {
     "name": "stdout",
     "output_type": "stream",
     "text": [
      "STARTING SPOT TEST ENV\n"
     ]
    },
    {
     "name": "stderr",
     "output_type": "stream",
     "text": [
      "GL error 0x500 detected in glGenBuffers\n"
     ]
    },
    {
     "ename": "error",
     "evalue": "Cannot load URDF file.",
     "output_type": "error",
     "traceback": [
      "\u001b[0;31m---------------------------------------------------------------------------\u001b[0m",
      "\u001b[0;31merror\u001b[0m                                     Traceback (most recent call last)",
      "File \u001b[0;32m/mnt/c/Users/david/Pybullet Projects/unitree_A1_ewing/env_tester.py:221\u001b[0m, in \u001b[0;36m<module>\u001b[0;34m\u001b[0m\n\u001b[1;32m    217\u001b[0m     \u001b[38;5;28mprint\u001b[39m(joint_angles)\n\u001b[1;32m    220\u001b[0m \u001b[38;5;28;01mif\u001b[39;00m \u001b[38;5;18m__name__\u001b[39m \u001b[38;5;241m==\u001b[39m \u001b[38;5;124m'\u001b[39m\u001b[38;5;124m__main__\u001b[39m\u001b[38;5;124m'\u001b[39m:\n\u001b[0;32m--> 221\u001b[0m     \u001b[43mmain\u001b[49m\u001b[43m(\u001b[49m\u001b[43m)\u001b[49m\n",
      "File \u001b[0;32m/mnt/c/Users/david/Pybullet Projects/unitree_A1_ewing/env_tester.py:94\u001b[0m, in \u001b[0;36mmain\u001b[0;34m()\u001b[0m\n\u001b[1;32m     91\u001b[0m \u001b[38;5;28;01melse\u001b[39;00m:\n\u001b[1;32m     92\u001b[0m     env_randomizer \u001b[38;5;241m=\u001b[39m SpotEnvRandomizer()\n\u001b[0;32m---> 94\u001b[0m env \u001b[38;5;241m=\u001b[39m \u001b[43mspotBezierEnv\u001b[49m\u001b[43m(\u001b[49m\u001b[43mrender\u001b[49m\u001b[38;5;241;43m=\u001b[39;49m\u001b[38;5;28;43;01mTrue\u001b[39;49;00m\u001b[43m,\u001b[49m\n\u001b[1;32m     95\u001b[0m \u001b[43m                    \u001b[49m\u001b[43mon_rack\u001b[49m\u001b[38;5;241;43m=\u001b[39;49m\u001b[43mon_rack\u001b[49m\u001b[43m,\u001b[49m\n\u001b[1;32m     96\u001b[0m \u001b[43m                    \u001b[49m\u001b[43mheight_field\u001b[49m\u001b[38;5;241;43m=\u001b[39;49m\u001b[43mheight_field\u001b[49m\u001b[43m,\u001b[49m\n\u001b[1;32m     97\u001b[0m \u001b[43m                    \u001b[49m\u001b[43mdraw_foot_path\u001b[49m\u001b[38;5;241;43m=\u001b[39;49m\u001b[43mdraw_foot_path\u001b[49m\u001b[43m,\u001b[49m\n\u001b[1;32m     98\u001b[0m \u001b[43m                    \u001b[49m\u001b[43menv_randomizer\u001b[49m\u001b[38;5;241;43m=\u001b[39;49m\u001b[43menv_randomizer\u001b[49m\u001b[43m)\u001b[49m\n\u001b[1;32m    100\u001b[0m \u001b[38;5;66;03m# Set seeds\u001b[39;00m\n\u001b[1;32m    101\u001b[0m env\u001b[38;5;241m.\u001b[39mseed(seed)\n",
      "File \u001b[0;32m/mnt/c/Users/david/Pybullet Projects/unitree_A1_ewing/spot_kinematics/spot_bezier_env.py:88\u001b[0m, in \u001b[0;36mspotBezierEnv.__init__\u001b[0;34m(self, distance_weight, rotation_weight, energy_weight, shake_weight, drift_weight, rp_weight, rate_weight, urdf_root, urdf_version, distance_limit, observation_noise_stdev, self_collision_enabled, motor_velocity_limit, pd_control_enabled, leg_model_enabled, accurate_motor_model_enabled, remove_default_joint_damping, motor_kp, motor_kd, control_latency, pd_latency, torque_control_enabled, motor_overheat_protection, hard_reset, on_rack, render, num_steps_to_log, action_repeat, control_time_step, env_randomizer, forward_reward_cap, reflection, log_path, desired_velocity, desired_rate, lateral, draw_foot_path, height_field, AutoStepper, action_dim, contacts)\u001b[0m\n\u001b[1;32m     45\u001b[0m \u001b[38;5;28;01mdef\u001b[39;00m \u001b[38;5;21m__init__\u001b[39m(\u001b[38;5;28mself\u001b[39m,\n\u001b[1;32m     46\u001b[0m              distance_weight\u001b[38;5;241m=\u001b[39m\u001b[38;5;241m1.0\u001b[39m,\n\u001b[1;32m     47\u001b[0m              rotation_weight\u001b[38;5;241m=\u001b[39m\u001b[38;5;241m0.0\u001b[39m,\n\u001b[0;32m   (...)\u001b[0m\n\u001b[1;32m     85\u001b[0m              action_dim\u001b[38;5;241m=\u001b[39m\u001b[38;5;241m14\u001b[39m,\n\u001b[1;32m     86\u001b[0m              contacts\u001b[38;5;241m=\u001b[39m\u001b[38;5;28;01mTrue\u001b[39;00m):\n\u001b[0;32m---> 88\u001b[0m     \u001b[38;5;28;43msuper\u001b[39;49m\u001b[43m(\u001b[49m\u001b[43mspotBezierEnv\u001b[49m\u001b[43m,\u001b[49m\u001b[43m \u001b[49m\u001b[38;5;28;43mself\u001b[39;49m\u001b[43m)\u001b[49m\u001b[38;5;241;43m.\u001b[39;49m\u001b[38;5;21;43m__init__\u001b[39;49m\u001b[43m(\u001b[49m\n\u001b[1;32m     89\u001b[0m \u001b[43m        \u001b[49m\u001b[43mdistance_weight\u001b[49m\u001b[38;5;241;43m=\u001b[39;49m\u001b[43mdistance_weight\u001b[49m\u001b[43m,\u001b[49m\n\u001b[1;32m     90\u001b[0m \u001b[43m        \u001b[49m\u001b[43mrotation_weight\u001b[49m\u001b[38;5;241;43m=\u001b[39;49m\u001b[43mrotation_weight\u001b[49m\u001b[43m,\u001b[49m\n\u001b[1;32m     91\u001b[0m \u001b[43m        \u001b[49m\u001b[43menergy_weight\u001b[49m\u001b[38;5;241;43m=\u001b[39;49m\u001b[43menergy_weight\u001b[49m\u001b[43m,\u001b[49m\n\u001b[1;32m     92\u001b[0m \u001b[43m        \u001b[49m\u001b[43mshake_weight\u001b[49m\u001b[38;5;241;43m=\u001b[39;49m\u001b[43mshake_weight\u001b[49m\u001b[43m,\u001b[49m\n\u001b[1;32m     93\u001b[0m \u001b[43m        \u001b[49m\u001b[43mdrift_weight\u001b[49m\u001b[38;5;241;43m=\u001b[39;49m\u001b[43mdrift_weight\u001b[49m\u001b[43m,\u001b[49m\n\u001b[1;32m     94\u001b[0m \u001b[43m        \u001b[49m\u001b[43mrp_weight\u001b[49m\u001b[38;5;241;43m=\u001b[39;49m\u001b[43mrp_weight\u001b[49m\u001b[43m,\u001b[49m\n\u001b[1;32m     95\u001b[0m \u001b[43m        \u001b[49m\u001b[43mrate_weight\u001b[49m\u001b[38;5;241;43m=\u001b[39;49m\u001b[43mrate_weight\u001b[49m\u001b[43m,\u001b[49m\n\u001b[1;32m     96\u001b[0m \u001b[43m        \u001b[49m\u001b[43murdf_root\u001b[49m\u001b[38;5;241;43m=\u001b[39;49m\u001b[43murdf_root\u001b[49m\u001b[43m,\u001b[49m\n\u001b[1;32m     97\u001b[0m \u001b[43m        \u001b[49m\u001b[43murdf_version\u001b[49m\u001b[38;5;241;43m=\u001b[39;49m\u001b[43murdf_version\u001b[49m\u001b[43m,\u001b[49m\n\u001b[1;32m     98\u001b[0m \u001b[43m        \u001b[49m\u001b[43mdistance_limit\u001b[49m\u001b[38;5;241;43m=\u001b[39;49m\u001b[43mdistance_limit\u001b[49m\u001b[43m,\u001b[49m\n\u001b[1;32m     99\u001b[0m \u001b[43m        \u001b[49m\u001b[43mobservation_noise_stdev\u001b[49m\u001b[38;5;241;43m=\u001b[39;49m\u001b[43mobservation_noise_stdev\u001b[49m\u001b[43m,\u001b[49m\n\u001b[1;32m    100\u001b[0m \u001b[43m        \u001b[49m\u001b[43mself_collision_enabled\u001b[49m\u001b[38;5;241;43m=\u001b[39;49m\u001b[43mself_collision_enabled\u001b[49m\u001b[43m,\u001b[49m\n\u001b[1;32m    101\u001b[0m \u001b[43m        \u001b[49m\u001b[43mmotor_velocity_limit\u001b[49m\u001b[38;5;241;43m=\u001b[39;49m\u001b[43mmotor_velocity_limit\u001b[49m\u001b[43m,\u001b[49m\n\u001b[1;32m    102\u001b[0m \u001b[43m        \u001b[49m\u001b[43mpd_control_enabled\u001b[49m\u001b[38;5;241;43m=\u001b[39;49m\u001b[43mpd_control_enabled\u001b[49m\u001b[43m,\u001b[49m\n\u001b[1;32m    103\u001b[0m \u001b[43m        \u001b[49m\u001b[43mleg_model_enabled\u001b[49m\u001b[38;5;241;43m=\u001b[39;49m\u001b[43mleg_model_enabled\u001b[49m\u001b[43m,\u001b[49m\n\u001b[1;32m    104\u001b[0m \u001b[43m        \u001b[49m\u001b[43maccurate_motor_model_enabled\u001b[49m\u001b[38;5;241;43m=\u001b[39;49m\u001b[43maccurate_motor_model_enabled\u001b[49m\u001b[43m,\u001b[49m\n\u001b[1;32m    105\u001b[0m \u001b[43m        \u001b[49m\u001b[43mremove_default_joint_damping\u001b[49m\u001b[38;5;241;43m=\u001b[39;49m\u001b[43mremove_default_joint_damping\u001b[49m\u001b[43m,\u001b[49m\n\u001b[1;32m    106\u001b[0m \u001b[43m        \u001b[49m\u001b[43mmotor_kp\u001b[49m\u001b[38;5;241;43m=\u001b[39;49m\u001b[43mmotor_kp\u001b[49m\u001b[43m,\u001b[49m\n\u001b[1;32m    107\u001b[0m \u001b[43m        \u001b[49m\u001b[43mmotor_kd\u001b[49m\u001b[38;5;241;43m=\u001b[39;49m\u001b[43mmotor_kd\u001b[49m\u001b[43m,\u001b[49m\n\u001b[1;32m    108\u001b[0m \u001b[43m        \u001b[49m\u001b[43mcontrol_latency\u001b[49m\u001b[38;5;241;43m=\u001b[39;49m\u001b[43mcontrol_latency\u001b[49m\u001b[43m,\u001b[49m\n\u001b[1;32m    109\u001b[0m \u001b[43m        \u001b[49m\u001b[43mpd_latency\u001b[49m\u001b[38;5;241;43m=\u001b[39;49m\u001b[43mpd_latency\u001b[49m\u001b[43m,\u001b[49m\n\u001b[1;32m    110\u001b[0m \u001b[43m        \u001b[49m\u001b[43mtorque_control_enabled\u001b[49m\u001b[38;5;241;43m=\u001b[39;49m\u001b[43mtorque_control_enabled\u001b[49m\u001b[43m,\u001b[49m\n\u001b[1;32m    111\u001b[0m \u001b[43m        \u001b[49m\u001b[43mmotor_overheat_protection\u001b[49m\u001b[38;5;241;43m=\u001b[39;49m\u001b[43mmotor_overheat_protection\u001b[49m\u001b[43m,\u001b[49m\n\u001b[1;32m    112\u001b[0m \u001b[43m        \u001b[49m\u001b[43mhard_reset\u001b[49m\u001b[38;5;241;43m=\u001b[39;49m\u001b[43mhard_reset\u001b[49m\u001b[43m,\u001b[49m\n\u001b[1;32m    113\u001b[0m \u001b[43m        \u001b[49m\u001b[43mon_rack\u001b[49m\u001b[38;5;241;43m=\u001b[39;49m\u001b[43mon_rack\u001b[49m\u001b[43m,\u001b[49m\n\u001b[1;32m    114\u001b[0m \u001b[43m        \u001b[49m\u001b[43mrender\u001b[49m\u001b[38;5;241;43m=\u001b[39;49m\u001b[43mrender\u001b[49m\u001b[43m,\u001b[49m\n\u001b[1;32m    115\u001b[0m \u001b[43m        \u001b[49m\u001b[43mnum_steps_to_log\u001b[49m\u001b[38;5;241;43m=\u001b[39;49m\u001b[43mnum_steps_to_log\u001b[49m\u001b[43m,\u001b[49m\n\u001b[1;32m    116\u001b[0m \u001b[43m        \u001b[49m\u001b[43maction_repeat\u001b[49m\u001b[38;5;241;43m=\u001b[39;49m\u001b[43maction_repeat\u001b[49m\u001b[43m,\u001b[49m\n\u001b[1;32m    117\u001b[0m \u001b[43m        \u001b[49m\u001b[43mcontrol_time_step\u001b[49m\u001b[38;5;241;43m=\u001b[39;49m\u001b[43mcontrol_time_step\u001b[49m\u001b[43m,\u001b[49m\n\u001b[1;32m    118\u001b[0m \u001b[43m        \u001b[49m\u001b[43menv_randomizer\u001b[49m\u001b[38;5;241;43m=\u001b[39;49m\u001b[43menv_randomizer\u001b[49m\u001b[43m,\u001b[49m\n\u001b[1;32m    119\u001b[0m \u001b[43m        \u001b[49m\u001b[43mforward_reward_cap\u001b[49m\u001b[38;5;241;43m=\u001b[39;49m\u001b[43mforward_reward_cap\u001b[49m\u001b[43m,\u001b[49m\n\u001b[1;32m    120\u001b[0m \u001b[43m        \u001b[49m\u001b[43mreflection\u001b[49m\u001b[38;5;241;43m=\u001b[39;49m\u001b[43mreflection\u001b[49m\u001b[43m,\u001b[49m\n\u001b[1;32m    121\u001b[0m \u001b[43m        \u001b[49m\u001b[43mlog_path\u001b[49m\u001b[38;5;241;43m=\u001b[39;49m\u001b[43mlog_path\u001b[49m\u001b[43m,\u001b[49m\n\u001b[1;32m    122\u001b[0m \u001b[43m        \u001b[49m\u001b[43mdesired_velocity\u001b[49m\u001b[38;5;241;43m=\u001b[39;49m\u001b[43mdesired_velocity\u001b[49m\u001b[43m,\u001b[49m\n\u001b[1;32m    123\u001b[0m \u001b[43m        \u001b[49m\u001b[43mdesired_rate\u001b[49m\u001b[38;5;241;43m=\u001b[39;49m\u001b[43mdesired_rate\u001b[49m\u001b[43m,\u001b[49m\n\u001b[1;32m    124\u001b[0m \u001b[43m        \u001b[49m\u001b[43mlateral\u001b[49m\u001b[38;5;241;43m=\u001b[39;49m\u001b[43mlateral\u001b[49m\u001b[43m,\u001b[49m\n\u001b[1;32m    125\u001b[0m \u001b[43m        \u001b[49m\u001b[43mdraw_foot_path\u001b[49m\u001b[38;5;241;43m=\u001b[39;49m\u001b[43mdraw_foot_path\u001b[49m\u001b[43m,\u001b[49m\n\u001b[1;32m    126\u001b[0m \u001b[43m        \u001b[49m\u001b[43mheight_field\u001b[49m\u001b[38;5;241;43m=\u001b[39;49m\u001b[43mheight_field\u001b[49m\u001b[43m,\u001b[49m\n\u001b[1;32m    127\u001b[0m \u001b[43m        \u001b[49m\u001b[43mAutoStepper\u001b[49m\u001b[38;5;241;43m=\u001b[39;49m\u001b[43mAutoStepper\u001b[49m\u001b[43m,\u001b[49m\n\u001b[1;32m    128\u001b[0m \u001b[43m        \u001b[49m\u001b[43mcontacts\u001b[49m\u001b[38;5;241;43m=\u001b[39;49m\u001b[43mcontacts\u001b[49m\u001b[43m)\u001b[49m\n\u001b[1;32m    130\u001b[0m     \u001b[38;5;66;03m# Residuals + Clearance Height + Penetration Depth\u001b[39;00m\n\u001b[1;32m    131\u001b[0m     action_high \u001b[38;5;241m=\u001b[39m np\u001b[38;5;241m.\u001b[39marray([\u001b[38;5;28mself\u001b[39m\u001b[38;5;241m.\u001b[39m_action_bound] \u001b[38;5;241m*\u001b[39m action_dim)\n",
      "File \u001b[0;32m/mnt/c/Users/david/Pybullet Projects/unitree_A1_ewing/spot_kinematics/spot_gym_env.py:275\u001b[0m, in \u001b[0;36mspotGymEnv.__init__\u001b[0;34m(self, distance_weight, rotation_weight, energy_weight, shake_weight, drift_weight, rp_weight, rate_weight, urdf_root, urdf_version, distance_limit, observation_noise_stdev, self_collision_enabled, motor_velocity_limit, pd_control_enabled, leg_model_enabled, accurate_motor_model_enabled, remove_default_joint_damping, motor_kp, motor_kd, control_latency, pd_latency, torque_control_enabled, motor_overheat_protection, hard_reset, on_rack, render, num_steps_to_log, action_repeat, control_time_step, env_randomizer, forward_reward_cap, reflection, log_path, desired_velocity, desired_rate, lateral, draw_foot_path, height_field, height_field_iters, AutoStepper, contacts)\u001b[0m\n\u001b[1;32m    273\u001b[0m \u001b[38;5;66;03m# Only update after HF has been generated\u001b[39;00m\n\u001b[1;32m    274\u001b[0m \u001b[38;5;28mself\u001b[39m\u001b[38;5;241m.\u001b[39mheight_field \u001b[38;5;241m=\u001b[39m \u001b[38;5;28;01mFalse\u001b[39;00m\n\u001b[0;32m--> 275\u001b[0m \u001b[38;5;28;43mself\u001b[39;49m\u001b[38;5;241;43m.\u001b[39;49m\u001b[43mreset\u001b[49m\u001b[43m(\u001b[49m\u001b[43m)\u001b[49m\n\u001b[1;32m    276\u001b[0m observation_high \u001b[38;5;241m=\u001b[39m (\u001b[38;5;28mself\u001b[39m\u001b[38;5;241m.\u001b[39mspot\u001b[38;5;241m.\u001b[39mGetObservationUpperBound() \u001b[38;5;241m+\u001b[39m\n\u001b[1;32m    277\u001b[0m                     OBSERVATION_EPS)\n\u001b[1;32m    278\u001b[0m observation_low \u001b[38;5;241m=\u001b[39m (\u001b[38;5;28mself\u001b[39m\u001b[38;5;241m.\u001b[39mspot\u001b[38;5;241m.\u001b[39mGetObservationLowerBound() \u001b[38;5;241m-\u001b[39m\n\u001b[1;32m    279\u001b[0m                    OBSERVATION_EPS)\n",
      "File \u001b[0;32m/mnt/c/Users/david/Pybullet Projects/unitree_A1_ewing/spot_kinematics/spot_gym_env.py:334\u001b[0m, in \u001b[0;36mspotGymEnv.reset\u001b[0;34m(self, initial_motor_angles, reset_duration, desired_velocity, desired_rate)\u001b[0m\n\u001b[1;32m    331\u001b[0m         \u001b[38;5;28;01mraise\u001b[39;00m \u001b[38;5;167;01mValueError\u001b[39;00m(\u001b[38;5;124m\"\u001b[39m\u001b[38;5;132;01m%s\u001b[39;00m\u001b[38;5;124m is not a supported urdf_version.\u001b[39m\u001b[38;5;124m\"\u001b[39m \u001b[38;5;241m%\u001b[39m\n\u001b[1;32m    332\u001b[0m                          \u001b[38;5;28mself\u001b[39m\u001b[38;5;241m.\u001b[39m_urdf_version)\n\u001b[1;32m    333\u001b[0m     \u001b[38;5;28;01melse\u001b[39;00m:\n\u001b[0;32m--> 334\u001b[0m         \u001b[38;5;28mself\u001b[39m\u001b[38;5;241m.\u001b[39mspot \u001b[38;5;241m=\u001b[39m (\u001b[43mspot_URDF_VERSION_MAP\u001b[49m\u001b[43m[\u001b[49m\u001b[38;5;28;43mself\u001b[39;49m\u001b[38;5;241;43m.\u001b[39;49m\u001b[43m_urdf_version\u001b[49m\u001b[43m]\u001b[49m\u001b[43m(\u001b[49m\n\u001b[1;32m    335\u001b[0m \u001b[43m            \u001b[49m\u001b[43mpybullet_client\u001b[49m\u001b[38;5;241;43m=\u001b[39;49m\u001b[38;5;28;43mself\u001b[39;49m\u001b[38;5;241;43m.\u001b[39;49m\u001b[43m_pybullet_client\u001b[49m\u001b[43m,\u001b[49m\n\u001b[1;32m    336\u001b[0m \u001b[43m            \u001b[49m\u001b[43maction_repeat\u001b[49m\u001b[38;5;241;43m=\u001b[39;49m\u001b[38;5;28;43mself\u001b[39;49m\u001b[38;5;241;43m.\u001b[39;49m\u001b[43m_action_repeat\u001b[49m\u001b[43m,\u001b[49m\n\u001b[1;32m    337\u001b[0m \u001b[43m            \u001b[49m\u001b[43murdf_root\u001b[49m\u001b[38;5;241;43m=\u001b[39;49m\u001b[38;5;28;43mself\u001b[39;49m\u001b[38;5;241;43m.\u001b[39;49m\u001b[43m_urdf_root\u001b[49m\u001b[43m,\u001b[49m\n\u001b[1;32m    338\u001b[0m \u001b[43m            \u001b[49m\u001b[43mtime_step\u001b[49m\u001b[38;5;241;43m=\u001b[39;49m\u001b[38;5;28;43mself\u001b[39;49m\u001b[38;5;241;43m.\u001b[39;49m\u001b[43m_time_step\u001b[49m\u001b[43m,\u001b[49m\n\u001b[1;32m    339\u001b[0m \u001b[43m            \u001b[49m\u001b[43mself_collision_enabled\u001b[49m\u001b[38;5;241;43m=\u001b[39;49m\u001b[38;5;28;43mself\u001b[39;49m\u001b[38;5;241;43m.\u001b[39;49m\u001b[43m_self_collision_enabled\u001b[49m\u001b[43m,\u001b[49m\n\u001b[1;32m    340\u001b[0m \u001b[43m            \u001b[49m\u001b[43mmotor_velocity_limit\u001b[49m\u001b[38;5;241;43m=\u001b[39;49m\u001b[38;5;28;43mself\u001b[39;49m\u001b[38;5;241;43m.\u001b[39;49m\u001b[43m_motor_velocity_limit\u001b[49m\u001b[43m,\u001b[49m\n\u001b[1;32m    341\u001b[0m \u001b[43m            \u001b[49m\u001b[43mpd_control_enabled\u001b[49m\u001b[38;5;241;43m=\u001b[39;49m\u001b[38;5;28;43mself\u001b[39;49m\u001b[38;5;241;43m.\u001b[39;49m\u001b[43m_pd_control_enabled\u001b[49m\u001b[43m,\u001b[49m\n\u001b[1;32m    342\u001b[0m \u001b[43m            \u001b[49m\u001b[43maccurate_motor_model_enabled\u001b[49m\u001b[38;5;241;43m=\u001b[39;49m\u001b[43macc_motor\u001b[49m\u001b[43m,\u001b[49m\n\u001b[1;32m    343\u001b[0m \u001b[43m            \u001b[49m\u001b[43mremove_default_joint_damping\u001b[49m\u001b[38;5;241;43m=\u001b[39;49m\u001b[38;5;28;43mself\u001b[39;49m\u001b[38;5;241;43m.\u001b[39;49m\n\u001b[1;32m    344\u001b[0m \u001b[43m            \u001b[49m\u001b[43m_remove_default_joint_damping\u001b[49m\u001b[43m,\u001b[49m\n\u001b[1;32m    345\u001b[0m \u001b[43m            \u001b[49m\u001b[43mmotor_kp\u001b[49m\u001b[38;5;241;43m=\u001b[39;49m\u001b[38;5;28;43mself\u001b[39;49m\u001b[38;5;241;43m.\u001b[39;49m\u001b[43m_motor_kp\u001b[49m\u001b[43m,\u001b[49m\n\u001b[1;32m    346\u001b[0m \u001b[43m            \u001b[49m\u001b[43mmotor_kd\u001b[49m\u001b[38;5;241;43m=\u001b[39;49m\u001b[38;5;28;43mself\u001b[39;49m\u001b[38;5;241;43m.\u001b[39;49m\u001b[43m_motor_kd\u001b[49m\u001b[43m,\u001b[49m\n\u001b[1;32m    347\u001b[0m \u001b[43m            \u001b[49m\u001b[43mcontrol_latency\u001b[49m\u001b[38;5;241;43m=\u001b[39;49m\u001b[38;5;28;43mself\u001b[39;49m\u001b[38;5;241;43m.\u001b[39;49m\u001b[43m_control_latency\u001b[49m\u001b[43m,\u001b[49m\n\u001b[1;32m    348\u001b[0m \u001b[43m            \u001b[49m\u001b[43mpd_latency\u001b[49m\u001b[38;5;241;43m=\u001b[39;49m\u001b[38;5;28;43mself\u001b[39;49m\u001b[38;5;241;43m.\u001b[39;49m\u001b[43m_pd_latency\u001b[49m\u001b[43m,\u001b[49m\n\u001b[1;32m    349\u001b[0m \u001b[43m            \u001b[49m\u001b[43mobservation_noise_stdev\u001b[49m\u001b[38;5;241;43m=\u001b[39;49m\u001b[38;5;28;43mself\u001b[39;49m\u001b[38;5;241;43m.\u001b[39;49m\u001b[43m_observation_noise_stdev\u001b[49m\u001b[43m,\u001b[49m\n\u001b[1;32m    350\u001b[0m \u001b[43m            \u001b[49m\u001b[43mtorque_control_enabled\u001b[49m\u001b[38;5;241;43m=\u001b[39;49m\u001b[38;5;28;43mself\u001b[39;49m\u001b[38;5;241;43m.\u001b[39;49m\u001b[43m_torque_control_enabled\u001b[49m\u001b[43m,\u001b[49m\n\u001b[1;32m    351\u001b[0m \u001b[43m            \u001b[49m\u001b[43mmotor_overheat_protection\u001b[49m\u001b[38;5;241;43m=\u001b[39;49m\u001b[43mmotor_protect\u001b[49m\u001b[43m,\u001b[49m\n\u001b[1;32m    352\u001b[0m \u001b[43m            \u001b[49m\u001b[43mon_rack\u001b[49m\u001b[38;5;241;43m=\u001b[39;49m\u001b[38;5;28;43mself\u001b[39;49m\u001b[38;5;241;43m.\u001b[39;49m\u001b[43m_on_rack\u001b[49m\u001b[43m,\u001b[49m\n\u001b[1;32m    353\u001b[0m \u001b[43m            \u001b[49m\u001b[43mnp_random\u001b[49m\u001b[38;5;241;43m=\u001b[39;49m\u001b[38;5;28;43mself\u001b[39;49m\u001b[38;5;241;43m.\u001b[39;49m\u001b[43mnp_random\u001b[49m\u001b[43m,\u001b[49m\n\u001b[1;32m    354\u001b[0m \u001b[43m            \u001b[49m\u001b[43mcontacts\u001b[49m\u001b[38;5;241;43m=\u001b[39;49m\u001b[38;5;28;43mself\u001b[39;49m\u001b[38;5;241;43m.\u001b[39;49m\u001b[43mcontacts\u001b[49m\u001b[43m)\u001b[49m)\n\u001b[1;32m    355\u001b[0m \u001b[38;5;28mself\u001b[39m\u001b[38;5;241m.\u001b[39mspot\u001b[38;5;241m.\u001b[39mReset(reload_urdf\u001b[38;5;241m=\u001b[39m\u001b[38;5;28;01mFalse\u001b[39;00m,\n\u001b[1;32m    356\u001b[0m                 default_motor_angles\u001b[38;5;241m=\u001b[39minitial_motor_angles,\n\u001b[1;32m    357\u001b[0m                 reset_time\u001b[38;5;241m=\u001b[39mreset_duration)\n\u001b[1;32m    359\u001b[0m \u001b[38;5;28;01mif\u001b[39;00m \u001b[38;5;28mself\u001b[39m\u001b[38;5;241m.\u001b[39m_env_randomizer \u001b[38;5;129;01mis\u001b[39;00m \u001b[38;5;129;01mnot\u001b[39;00m \u001b[38;5;28;01mNone\u001b[39;00m:\n",
      "File \u001b[0;32m/mnt/c/Users/david/Pybullet Projects/unitree_A1_ewing/spot_kinematics/spot.py:246\u001b[0m, in \u001b[0;36mSpot.__init__\u001b[0;34m(self, pybullet_client, urdf_root, time_step, action_repeat, self_collision_enabled, motor_velocity_limit, pd_control_enabled, accurate_motor_model_enabled, remove_default_joint_damping, max_force, motor_kp, motor_kd, pd_latency, control_latency, observation_noise_stdev, torque_control_enabled, motor_overheat_protection, on_rack, kd_for_pd_controllers, pose_id, np_random, contacts)\u001b[0m\n\u001b[1;32m    243\u001b[0m \u001b[38;5;28mself\u001b[39m\u001b[38;5;241m.\u001b[39m_step_counter \u001b[38;5;241m=\u001b[39m \u001b[38;5;241m0\u001b[39m\n\u001b[1;32m    244\u001b[0m \u001b[38;5;66;03m# reset_time=-1.0 means skipping the reset motion.\u001b[39;00m\n\u001b[1;32m    245\u001b[0m \u001b[38;5;66;03m# See Reset for more details.\u001b[39;00m\n\u001b[0;32m--> 246\u001b[0m \u001b[38;5;28;43mself\u001b[39;49m\u001b[38;5;241;43m.\u001b[39;49m\u001b[43mReset\u001b[49m\u001b[43m(\u001b[49m\u001b[43mreset_time\u001b[49m\u001b[38;5;241;43m=\u001b[39;49m\u001b[38;5;241;43m-\u001b[39;49m\u001b[38;5;241;43m1\u001b[39;49m\u001b[43m)\u001b[49m\n\u001b[1;32m    247\u001b[0m \u001b[38;5;28mself\u001b[39m\u001b[38;5;241m.\u001b[39minit_on_rack_position \u001b[38;5;241m=\u001b[39m INIT_RACK_POSITION\n\u001b[1;32m    248\u001b[0m \u001b[38;5;28mself\u001b[39m\u001b[38;5;241m.\u001b[39minit_position \u001b[38;5;241m=\u001b[39m INIT_POSITION\n",
      "File \u001b[0;32m/mnt/c/Users/david/Pybullet Projects/unitree_A1_ewing/spot_kinematics/spot.py:375\u001b[0m, in \u001b[0;36mSpot.Reset\u001b[0;34m(self, reload_urdf, default_motor_angles, reset_time)\u001b[0m\n\u001b[1;32m    373\u001b[0m \u001b[38;5;28;01mif\u001b[39;00m reload_urdf:\n\u001b[1;32m    374\u001b[0m     \u001b[38;5;28;01mif\u001b[39;00m \u001b[38;5;28mself\u001b[39m\u001b[38;5;241m.\u001b[39m_self_collision_enabled:\n\u001b[0;32m--> 375\u001b[0m         \u001b[38;5;28mself\u001b[39m\u001b[38;5;241m.\u001b[39mquadruped \u001b[38;5;241m=\u001b[39m \u001b[38;5;28;43mself\u001b[39;49m\u001b[38;5;241;43m.\u001b[39;49m\u001b[43m_pybullet_client\u001b[49m\u001b[38;5;241;43m.\u001b[39;49m\u001b[43mloadURDF\u001b[49m\u001b[43m(\u001b[49m\n\u001b[1;32m    376\u001b[0m \u001b[43m            \u001b[49m\u001b[38;5;66;43;03m#pybullet_data.getDataPath() + \"/assets/urdf/a1.urdf\",\u001b[39;49;00m\n\u001b[1;32m    377\u001b[0m \u001b[43m            \u001b[49m\u001b[38;5;124;43m\"\u001b[39;49m\u001b[38;5;124;43mspot_kinematics/util/pybullet_data/assets/urdf/a1.urdf\u001b[39;49m\u001b[38;5;124;43m\"\u001b[39;49m\u001b[43m,\u001b[49m\n\u001b[1;32m    378\u001b[0m \u001b[43m            \u001b[49m\u001b[43minit_position\u001b[49m\u001b[43m,\u001b[49m\n\u001b[1;32m    379\u001b[0m \u001b[43m            \u001b[49m\u001b[43museFixedBase\u001b[49m\u001b[38;5;241;43m=\u001b[39;49m\u001b[38;5;28;43mself\u001b[39;49m\u001b[38;5;241;43m.\u001b[39;49m\u001b[43m_on_rack\u001b[49m\u001b[43m,\u001b[49m\n\u001b[1;32m    380\u001b[0m \u001b[43m            \u001b[49m\u001b[43mflags\u001b[49m\u001b[38;5;241;43m=\u001b[39;49m\u001b[38;5;28;43mself\u001b[39;49m\u001b[38;5;241;43m.\u001b[39;49m\u001b[43m_pybullet_client\u001b[49m\u001b[38;5;241;43m.\u001b[39;49m\u001b[43mURDF_USE_SELF_COLLISION_EXCLUDE_PARENT\u001b[49m\u001b[43m)\u001b[49m\n\u001b[1;32m    381\u001b[0m     \u001b[38;5;28;01melse\u001b[39;00m:\n\u001b[1;32m    382\u001b[0m         \u001b[38;5;28mself\u001b[39m\u001b[38;5;241m.\u001b[39mquadruped \u001b[38;5;241m=\u001b[39m \u001b[38;5;28mself\u001b[39m\u001b[38;5;241m.\u001b[39m_pybullet_client\u001b[38;5;241m.\u001b[39mloadURDF(\n\u001b[1;32m    383\u001b[0m             \u001b[38;5;66;03m# pybullet_data.getDataPath() + \"/assets/urdf/a1.urdf\",\u001b[39;00m\n\u001b[1;32m    384\u001b[0m             \u001b[38;5;124m\"\u001b[39m\u001b[38;5;124mspot_kinematics/util/pybullet_data/assets/urdf/a1.urdf\u001b[39m\u001b[38;5;124m\"\u001b[39m,\n\u001b[1;32m    385\u001b[0m             init_position,\n\u001b[1;32m    386\u001b[0m             INIT_ORIENTATION,\n\u001b[1;32m    387\u001b[0m             useFixedBase\u001b[38;5;241m=\u001b[39m\u001b[38;5;28mself\u001b[39m\u001b[38;5;241m.\u001b[39m_on_rack)\n",
      "\u001b[0;31merror\u001b[0m: Cannot load URDF file."
     ]
    }
   ],
   "source": [
    "%run env_tester.py"
   ]
  },
  {
   "cell_type": "code",
   "execution_count": 2,
   "id": "9d9c1a20",
   "metadata": {},
   "outputs": [
    {
     "name": "stderr",
     "output_type": "stream",
     "text": [
      "GL error 0x500 detected in glGenBuffers\n"
     ]
    },
    {
     "data": {
      "text/plain": [
       "0"
      ]
     },
     "execution_count": 2,
     "metadata": {},
     "output_type": "execute_result"
    }
   ],
   "source": [
    "p.connect(p.GUI)\n",
    "# p.connect(p.DIRECT)"
   ]
  },
  {
   "cell_type": "code",
   "execution_count": 3,
   "id": "bdf83bb2",
   "metadata": {},
   "outputs": [],
   "source": [
    "# class Dog:\n",
    "p.resetSimulation()\n",
    "plane = p.loadURDF(\"plane.urdf\")\n",
    "p.setGravity(0,0,-9.8)\n",
    "p.setTimeStep(1./500)\n",
    "p.setRealTimeSimulation(1)\n",
    "#p.setDefaultContactERP(0)\n",
    "#urdfFlags = p.URDF_USE_SELF_COLLISION+p.URDF_USE_SELF_COLLISION_EXCLUDE_ALL_PARENTS\n",
    "urdfFlags = p.URDF_USE_SELF_COLLISION\n",
    "quadruped = p.loadURDF(\"data/a1/urdf/a1.urdf\",[0,0,0.48],[0,0,0,1], flags = urdfFlags,useFixedBase=0)\n",
    "quadNumJoints = p.getNumJoints(quadruped)"
   ]
  },
  {
   "cell_type": "code",
   "execution_count": 11,
   "id": "d6698fe1",
   "metadata": {},
   "outputs": [
    {
     "name": "stdout",
     "output_type": "stream",
     "text": [
      "((0.00010253809997560786, 9.861559936208766e-05, 0.4199906222058692), (0.0002094486443328408, -3.4019549392802184e-07, -1.565393805729106e-05, 0.9999999779430517))\n"
     ]
    }
   ],
   "source": [
    "#enable collision between lower legs\n",
    "# for j in range (quadNumJoints):\n",
    "#         print(p.getJointInfo(quadruped,j))\n",
    "\n",
    "#    2, b'FR_hip_joint'    - JOINT\n",
    "#    3, b'FR_thigh_joint'  - JOINT\n",
    "#    4, b'FR_calf_joint'   - JOINT\n",
    "#    5, b'FR_foot_fixed'   - END-EFFECTOR\n",
    "#    6, b'FL_hip_joint'    - JOINT\n",
    "#    7, b'FL_thigh_joint'  - JOINT\n",
    "#    8, b'FL_calf_joint'   - JOINT\n",
    "#    9, b'FL_foot_fixed'   - END-EFFECTOR\n",
    "#    10, b'RR_hip_joint'   - JOINT\n",
    "#    11, b'RR_thigh_joint' - JOINT\n",
    "#    12, b'RR_calf_joint'  - JOINT\n",
    "#    13, b'RR_foot_fixed'  - END-EFFECTOR\n",
    "#    14, b'RL_hip_joint'   - JOINT\n",
    "#    15, b'RL_thigh_joint' - JOINT\n",
    "#    16, b'RL_calf_joint'  - JOINT\n",
    "#    17, b'RL_foot_fixed'  - END-EFFECTOR\n",
    "\n",
    "end_effectors = [5, 9, 13, 17]\n",
    "\n",
    "# DOESNT MAKE SENSE:\n",
    "# lower_legs = [2,5,8,11]\n",
    "# for l0 in lower_legs:\n",
    "#     for l1 in lower_legs:\n",
    "#         if (l1>l0):\n",
    "#             enableCollision = 1\n",
    "#             #print(\"collision for pair\",l0,l1, p.getJointInfo(quadruped,l0)[12],p.getJointInfo(quadruped,l1)[12], \"enabled=\",enableCollision)\n",
    "#             p.setCollisionFilterPair(quadruped, quadruped, 2,5,enableCollision)\n",
    "\n",
    "jointIds=[]\n",
    "paramIds=[]\n",
    "\n",
    "maxForceId = p.addUserDebugParameter(\"maxForce\",0,100,20)\n",
    "\n",
    "for j in range (quadNumJoints):\n",
    "    p.changeDynamics(quadruped,j,linearDamping=0, angularDamping=0)\n",
    "    info = p.getJointInfo(quadruped,j)\n",
    "#     print(info)\n",
    "    jointType = info[2]\n",
    "    if (jointType==p.JOINT_PRISMATIC or jointType==p.JOINT_REVOLUTE):\n",
    "        jointIds.append(j)\n",
    "\n",
    "# print(jointIds)\n",
    "\n",
    "p.getCameraImage(480,320)\n",
    "\n",
    "\n",
    "joints=[]\n",
    "t = 0  #time set to 0\n",
    "prev_pos = p.getBasePositionAndOrientation(quadruped)\n",
    "print(prev_pos)\n",
    "\n",
    "FR_pos = p.getJointState(quadruped, end_effectors[0])\n",
    "FL_pos = p.getJointState(quadruped, end_effectors[1])\n",
    "BR_pos = p.getJointState(quadruped, end_effectors[2])\n",
    "BL_pos = p.getJointState(quadruped, end_effectors[3])\n",
    "# print(FR_pos, FL_pos, BR_pos, BL_pos)"
   ]
  },
  {
   "cell_type": "code",
   "execution_count": null,
   "id": "39c18c0d",
   "metadata": {},
   "outputs": [],
   "source": [
    "#gait pattern w/o limits\n",
    "useRealTimeSimulation = 1\n",
    "\n",
    "#phase of each leg\n",
    "phi_FR = 0\n",
    "phi_FL = 4.*math.pi / 4\n",
    "phi_BR = 4.*math.pi / 4\n",
    "phi_BL = 0.*math.pi / 4\n",
    "phi = [phi_FR, phi_FL, phi_BR, phi_BL]\n",
    "\n",
    "leg_FR = [2, 3, 4]\n",
    "leg_FL = [6, 7, 8]\n",
    "leg_BR = [10, 11, 12]\n",
    "leg_BL = [14, 15, 16]\n",
    "joint_Id = [leg_FR, leg_FL, leg_BR, leg_BL]\n",
    "\n",
    "# motor ranges without swing ratio\n",
    "thigh_min = 3/16*math.pi\n",
    "thigh_range = 4/16*math.pi - thigh_min\n",
    "\n",
    "calf_min = -6/16*math.pi\n",
    "calf_range = -5/16*math.pi - calf_min \n",
    "\n",
    "# motor ranges with swing ratio\n",
    "thigh_swing_min = 6/32*math.pi\n",
    "thigh_swing_range = 7/32*math.pi - thigh_swing_min\n",
    "\n",
    "calf_swing_min = -6/16*math.pi\n",
    "calf_swing_range = -11/32*math.pi - calf_swing_min\n",
    "thigh_stance_min = 7/32*math.pi\n",
    "thigh_stance_range = 8/32*math.pi - thigh_stance_min\n",
    "\n",
    "calf_stance_min = -11/32*math.pi\n",
    "calf_stance_range = -10/32*math.pi - calf_stance_min\n",
    "\n",
    "\n",
    "while(1):\n",
    "    \n",
    "    #sets the time frequency of simulation\n",
    "    if (useRealTimeSimulation):\n",
    "        magnitude = 100000\n",
    "        period = 10 # a multiple of 100\n",
    "        dt = datetime.now()\n",
    "        time = (dt.microsecond + (dt.second * 1000000))\n",
    "        t = (((time / magnitude) % period) / period) * 2. * math.pi # gets an angle between 0 and 2pi \n",
    "    else: \n",
    "        if(t >= 2.*math.pi):\n",
    "            t = 0\n",
    "        else:\n",
    "            t = t + (2.*math.pi)/12000\n",
    "        p.stepSimulation()        \n",
    "    \n",
    "    # each leg can be treated as a 2-dof robotic arm: governing equations:\n",
    "    #     x = l1 * cos(theta1) + l2 * cos(theta1 + theta2)\n",
    "    #     y = l1 * sin(theta1) + l2 * sin(theta1 + theta2)\n",
    "    # theoretical inverse kinematics: \n",
    "    #     theta2 = math.acos((pow(x, 2) + pow(y, 2) - pow(l1, 2) - pow(l2, 2))/(2*l1*l2)\n",
    "    #     theta1 = math.atan(y/x) - math.atan((l2*math.sin(theta2))/(l1 + l2*math.cos(theta2)))\n",
    "    \n",
    "    # calf motor range: -1/4pi to -7/8pi (usable range: -1/4pi to -7/8pi)\n",
    "    # thigh motor range: -1/4pi to 11/8pi (usable range: -1/4pi to 1/2pi)\n",
    "    \n",
    "    #calculates gait cycle for each leg separately according to each phase\n",
    "    for i in range(4):\n",
    "    \n",
    "    # translating position in degrees to motor positions:            \n",
    "\n",
    "        proportion1 = thigh_range / 2 # divide by the y range of sin\n",
    "        theta1 = proportion1 * (math.sin(t + phi[i]) + 1) + thigh_min # offset the sin curve so it is all positive\n",
    "\n",
    "        proportion2 = calf_range / 2\n",
    "        theta2 = proportion2 * (math.cos(t + phi[i]) + 1) + calf_min\n",
    "\n",
    "        motor_angles = [0., theta1, theta2] \n",
    "        motor_velocity_slow = [0., .01, .01]\n",
    "        motor_velocity_fast = [0., .02, .02]\n",
    "        \n",
    "        motor_force = [0, .005, .005]\n",
    "\n",
    "        p.setJointMotorControlArray(quadruped,\n",
    "                       joint_Id[i], \n",
    "                       p.POSITION_CONTROL, \n",
    "                       motor_angles, \n",
    "                       motor_force)\n",
    "\n",
    "    # need to separate the range of motion into \"stance\" and \"swing\"\n",
    "\n",
    "#         swing_ratio = .75\n",
    "#         stance_ratio = 1.-swing_ratio\n",
    "        \n",
    "#         motor_force = [0, .005, .005]\n",
    "\n",
    "#         if((math.sin(t + phi[i])) < (swing_ratio*2*math.pi)): #slow down when touching the ground, speed up when off the ground\n",
    "       \n",
    "#             proportion_stance = 2*math.pi / (2*math.pi*stance_ratio)\n",
    "#             t_stance = proportion * (t + phi[i]) + (2*math.pi - 2*math.pi*stance_ratio)\n",
    "\n",
    "#             proportion_thigh_stance = thigh_stance_range /2\n",
    "#             theta_thigh_stance = proportion_thigh_stance * (math.sin(t_stance)) + thigh_stance_min\n",
    "\n",
    "#             proportion_calf_stance = calf_stance_range /2\n",
    "#             theta_calf_stance = proportion_calf_stance * (math.cos(t_stance))  + calf_stance_min\n",
    "\n",
    "#             motor_angles_stance = [0., theta_thigh_stance, theta_calf_stance] \n",
    "\n",
    "#             p.setJointMotorControlArray(quadruped,\n",
    "#                                    joint_Id[i], \n",
    "#                                    p.POSITION_CONTROL, \n",
    "#                                    motor_angles_stance, \n",
    "#                                    motor_force)\n",
    "#         else: \n",
    "#             proportion_swing = 2*math.pi / (2*math.pi*swing_ratio)\n",
    "#             t_swing = proportion * (t + phi[i]) + (2*math.pi - 2*math.pi*swing_ratio)\n",
    "            \n",
    "#             proportion_thigh_swing = thigh_swing_range /2\n",
    "#             theta_thigh_swing = proportion_thigh_swing * (math.sin(t_swing)) + thigh_swing_min\n",
    "\n",
    "#             proportion_calf_swing = calf_swing_range /2\n",
    "#             theta_calf_swing = proportion_calf_swing * (math.cos(t_swing)) + calf_swing_min\n",
    "\n",
    "#             motor_angles_swing = [0., theta_thigh_swing, theta_calf_swing]\n",
    "\n",
    "#             p.setJointMotorControlArray(quadruped,\n",
    "#                                    joint_Id[i], \n",
    "#                                    p.POSITION_CONTROL, \n",
    "#                                    motor_angles_swing, \n",
    "#                                    motor_force)\n",
    "        \n",
    "\n",
    "\n",
    "#         if(i == 1):\n",
    "#             print(theta1)\n",
    "        \n",
    "    "
   ]
  },
  {
   "cell_type": "code",
   "execution_count": 7,
   "id": "94f3c5ab",
   "metadata": {},
   "outputs": [],
   "source": [
    "p.resetSimulation()"
   ]
  },
  {
   "cell_type": "code",
   "execution_count": 4,
   "id": "82508367",
   "metadata": {},
   "outputs": [],
   "source": [
    "p.disconnect()"
   ]
  }
 ],
 "metadata": {
  "kernelspec": {
   "display_name": "Python 3 (ipykernel)",
   "language": "python",
   "name": "python3"
  },
  "language_info": {
   "codemirror_mode": {
    "name": "ipython",
    "version": 3
   },
   "file_extension": ".py",
   "mimetype": "text/x-python",
   "name": "python",
   "nbconvert_exporter": "python",
   "pygments_lexer": "ipython3",
   "version": "3.10.4"
  },
  "vscode": {
   "interpreter": {
    "hash": "c99fe1247001ff9689d9faff4dbb0aa981d3b3fc7fcf8f57078ecb9a7c217558"
   }
  }
 },
 "nbformat": 4,
 "nbformat_minor": 5
}
