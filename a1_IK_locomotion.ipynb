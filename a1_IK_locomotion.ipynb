{
 "cells": [
  {
   "cell_type": "code",
   "execution_count": 4,
   "id": "f32cf523",
   "metadata": {},
   "outputs": [],
   "source": [
    "import pybullet as p\n",
    "import time\n",
    "import math\n",
    "from datetime import datetime\n",
    "\n",
    "#bezier curve plotting"
   ]
  },
  {
   "cell_type": "code",
   "execution_count": 2,
   "id": "9d9c1a20",
   "metadata": {},
   "outputs": [
    {
     "name": "stderr",
     "output_type": "stream",
     "text": [
      "GL error 0x500 detected in glGenBuffers\n"
     ]
    },
    {
     "data": {
      "text/plain": [
       "0"
      ]
     },
     "execution_count": 2,
     "metadata": {},
     "output_type": "execute_result"
    }
   ],
   "source": [
    "p.connect(p.GUI)\n",
    "# p.connect(p.DIRECT)"
   ]
  },
  {
   "cell_type": "code",
   "execution_count": 4,
   "id": "bdf83bb2",
   "metadata": {},
   "outputs": [],
   "source": [
    "# class Dog:\n",
    "p.resetSimulation()\n",
    "plane = p.loadURDF(\"plane.urdf\")\n",
    "p.setGravity(0,0,-9.8)\n",
    "p.setTimeStep(1./500)\n",
    "p.setRealTimeSimulation(1)\n",
    "#p.setDefaultContactERP(0)\n",
    "#urdfFlags = p.URDF_USE_SELF_COLLISION+p.URDF_USE_SELF_COLLISION_EXCLUDE_ALL_PARENTS\n",
    "urdfFlags = p.URDF_USE_SELF_COLLISION\n",
    "quadruped = p.loadURDF(\"a1/urdf/a1.urdf\",[0,0,0.48],[0,0,0,1], flags = urdfFlags,useFixedBase=0)\n",
    "quadNumJoints = p.getNumJoints(quadruped)"
   ]
  },
  {
   "cell_type": "code",
   "execution_count": 5,
   "id": "d6698fe1",
   "metadata": {},
   "outputs": [
    {
     "name": "stdout",
     "output_type": "stream",
     "text": [
      "((0.0002220548096270773, 0.0001591949281009885, 0.41999113980807606), (0.0003403367987040705, 5.291867599085847e-08, -2.0594629736504252e-05, 0.9999999418733593))\n"
     ]
    }
   ],
   "source": [
    "#enable collision between lower legs\n",
    "# for j in range (quadNumJoints):\n",
    "#         print(p.getJointInfo(quadruped,j))\n",
    "\n",
    "#    2, b'FR_hip_joint'    - JOINT\n",
    "#    3, b'FR_thigh_joint'  - JOINT\n",
    "#    4, b'FR_calf_joint'   - JOINT\n",
    "#    5, b'FR_foot_fixed'   - END-EFFECTOR\n",
    "#    6, b'FL_hip_joint'    - JOINT\n",
    "#    7, b'FL_thigh_joint'  - JOINT\n",
    "#    8, b'FL_calf_joint'   - JOINT\n",
    "#    9, b'FL_foot_fixed'   - END-EFFECTOR\n",
    "#    10, b'RR_hip_joint'   - JOINT\n",
    "#    11, b'RR_thigh_joint' - JOINT\n",
    "#    12, b'RR_calf_joint'  - JOINT\n",
    "#    13, b'RR_foot_fixed'  - END-EFFECTOR\n",
    "#    14, b'RL_hip_joint'   - JOINT\n",
    "#    15, b'RL_thigh_joint' - JOINT\n",
    "#    16, b'RL_calf_joint'  - JOINT\n",
    "#    17, b'RL_foot_fixed'  - END-EFFECTOR\n",
    "\n",
    "end_effectors = [5, 9, 13, 17]\n",
    "\n",
    "# DOESNT MAKE SENSE:\n",
    "# lower_legs = [2,5,8,11]\n",
    "# for l0 in lower_legs:\n",
    "#     for l1 in lower_legs:\n",
    "#         if (l1>l0):\n",
    "#             enableCollision = 1\n",
    "#             #print(\"collision for pair\",l0,l1, p.getJointInfo(quadruped,l0)[12],p.getJointInfo(quadruped,l1)[12], \"enabled=\",enableCollision)\n",
    "#             p.setCollisionFilterPair(quadruped, quadruped, 2,5,enableCollision)\n",
    "\n",
    "jointIds=[]\n",
    "paramIds=[]\n",
    "\n",
    "maxForceId = p.addUserDebugParameter(\"maxForce\",0,100,20)\n",
    "\n",
    "for j in range (quadNumJoints):\n",
    "    p.changeDynamics(quadruped,j,linearDamping=0, angularDamping=0)\n",
    "    info = p.getJointInfo(quadruped,j)\n",
    "#     print(info)\n",
    "    jointType = info[2]\n",
    "    if (jointType==p.JOINT_PRISMATIC or jointType==p.JOINT_REVOLUTE):\n",
    "        jointIds.append(j)\n",
    "\n",
    "# print(jointIds)\n",
    "\n",
    "p.getCameraImage(480,320)\n",
    "\n",
    "\n",
    "joints=[]\n",
    "t = 0  #time set to 0\n",
    "prev_pos = p.getBasePositionAndOrientation(quadruped)\n",
    "print(prev_pos)\n",
    "\n",
    "FR_pos = p.getJointState(quadruped, end_effectors[0])\n",
    "FL_pos = p.getJointState(quadruped, end_effectors[1])\n",
    "BR_pos = p.getJointState(quadruped, end_effectors[2])\n",
    "BL_pos = p.getJointState(quadruped, end_effectors[3])\n",
    "# print(FR_pos, FL_pos, BR_pos, BL_pos)"
   ]
  },
  {
   "cell_type": "code",
   "execution_count": 6,
   "id": "39c18c0d",
   "metadata": {},
   "outputs": [
    {
     "ename": "KeyboardInterrupt",
     "evalue": "",
     "output_type": "error",
     "traceback": [
      "\u001b[0;31m---------------------------------------------------------------------------\u001b[0m",
      "\u001b[0;31mKeyboardInterrupt\u001b[0m                         Traceback (most recent call last)",
      "Input \u001b[0;32mIn [6]\u001b[0m, in \u001b[0;36m<cell line: 37>\u001b[0;34m()\u001b[0m\n\u001b[1;32m     76\u001b[0m motor_velocity_fast \u001b[38;5;241m=\u001b[39m [\u001b[38;5;241m0.\u001b[39m, \u001b[38;5;241m.02\u001b[39m, \u001b[38;5;241m.02\u001b[39m]\n\u001b[1;32m     78\u001b[0m motor_force \u001b[38;5;241m=\u001b[39m [\u001b[38;5;241m0\u001b[39m, \u001b[38;5;241m.005\u001b[39m, \u001b[38;5;241m.005\u001b[39m]\n\u001b[0;32m---> 80\u001b[0m \u001b[43mp\u001b[49m\u001b[38;5;241;43m.\u001b[39;49m\u001b[43msetJointMotorControlArray\u001b[49m\u001b[43m(\u001b[49m\u001b[43mquadruped\u001b[49m\u001b[43m,\u001b[49m\n\u001b[1;32m     81\u001b[0m \u001b[43m               \u001b[49m\u001b[43mjoint_Id\u001b[49m\u001b[43m[\u001b[49m\u001b[43mi\u001b[49m\u001b[43m]\u001b[49m\u001b[43m,\u001b[49m\u001b[43m \u001b[49m\n\u001b[1;32m     82\u001b[0m \u001b[43m               \u001b[49m\u001b[43mp\u001b[49m\u001b[38;5;241;43m.\u001b[39;49m\u001b[43mPOSITION_CONTROL\u001b[49m\u001b[43m,\u001b[49m\u001b[43m \u001b[49m\n\u001b[1;32m     83\u001b[0m \u001b[43m               \u001b[49m\u001b[43mmotor_angles\u001b[49m\u001b[43m,\u001b[49m\u001b[43m \u001b[49m\n\u001b[1;32m     84\u001b[0m \u001b[43m               \u001b[49m\u001b[43mmotor_force\u001b[49m\u001b[43m)\u001b[49m\n",
      "\u001b[0;31mKeyboardInterrupt\u001b[0m: "
     ]
    }
   ],
   "source": [
    "#gait pattern w/o limits\n",
    "useRealTimeSimulation = 1\n",
    "\n",
    "#phase of each leg\n",
    "phi_FR = 0\n",
    "phi_FL = 4.*math.pi / 4\n",
    "phi_BR = 4.*math.pi / 4\n",
    "phi_BL = 0.*math.pi / 4\n",
    "phi = [phi_FR, phi_FL, phi_BR, phi_BL]\n",
    "\n",
    "leg_FR = [2, 3, 4]\n",
    "leg_FL = [6, 7, 8]\n",
    "leg_BR = [10, 11, 12]\n",
    "leg_BL = [14, 15, 16]\n",
    "joint_Id = [leg_FR, leg_FL, leg_BR, leg_BL]\n",
    "\n",
    "# motor ranges without swing ratio\n",
    "thigh_min = 3/16*math.pi\n",
    "thigh_range = 4/16*math.pi - thigh_min\n",
    "\n",
    "calf_min = -6/16*math.pi\n",
    "calf_range = -5/16*math.pi - calf_min \n",
    "\n",
    "# motor ranges with swing ratio\n",
    "thigh_swing_min = 6/32*math.pi\n",
    "thigh_swing_range = 7/32*math.pi - thigh_swing_min\n",
    "\n",
    "calf_swing_min = -6/16*math.pi\n",
    "calf_swing_range = -11/32*math.pi - calf_swing_min\n",
    "thigh_stance_min = 7/32*math.pi\n",
    "thigh_stance_range = 8/32*math.pi - thigh_stance_min\n",
    "\n",
    "calf_stance_min = -11/32*math.pi\n",
    "calf_stance_range = -10/32*math.pi - calf_stance_min\n",
    "\n",
    "\n",
    "while(1):\n",
    "    \n",
    "    #sets the time frequency of simulation\n",
    "    if (useRealTimeSimulation):\n",
    "        magnitude = 100000\n",
    "        period = 10 # a multiple of 100\n",
    "        dt = datetime.now()\n",
    "        time = (dt.microsecond + (dt.second * 1000000))\n",
    "        t = (((time / magnitude) % period) / period) * 2. * math.pi # gets an angle between 0 and 2pi \n",
    "    else: \n",
    "        if(t >= 2.*math.pi):\n",
    "            t = 0\n",
    "        else:\n",
    "            t = t + (2.*math.pi)/12000\n",
    "        p.stepSimulation()        \n",
    "    \n",
    "    # each leg can be treated as a 2-dof robotic arm: governing equations:\n",
    "    #     x = l1 * cos(theta1) + l2 * cos(theta1 + theta2)\n",
    "    #     y = l1 * sin(theta1) + l2 * sin(theta1 + theta2)\n",
    "    # theoretical inverse kinematics: \n",
    "    #     theta2 = math.acos((pow(x, 2) + pow(y, 2) - pow(l1, 2) - pow(l2, 2))/(2*l1*l2)\n",
    "    #     theta1 = math.atan(y/x) - math.atan((l2*math.sin(theta2))/(l1 + l2*math.cos(theta2)))\n",
    "    \n",
    "    # calf motor range: -1/4pi to -7/8pi (usable range: -1/4pi to -7/8pi)\n",
    "    # thigh motor range: -1/4pi to 11/8pi (usable range: -1/4pi to 1/2pi)\n",
    "    \n",
    "    #calculates gait cycle for each leg separately according to each phase\n",
    "    for i in range(4):\n",
    "    \n",
    "    # translating position in degrees to motor positions:            \n",
    "\n",
    "        proportion1 = thigh_range / 2 # divide by the y range of sin\n",
    "        theta1 = proportion1 * (math.sin(t + phi[i]) + 1) + thigh_min # offset the sin curve so it is all positive\n",
    "\n",
    "        proportion2 = calf_range / 2\n",
    "        theta2 = proportion2 * (math.cos(t + phi[i]) + 1) + calf_min\n",
    "\n",
    "        motor_angles = [0., theta1, theta2] \n",
    "        motor_velocity_slow = [0., .01, .01]\n",
    "        motor_velocity_fast = [0., .02, .02]\n",
    "        \n",
    "        motor_force = [0, .005, .005]\n",
    "\n",
    "        p.setJointMotorControlArray(quadruped,\n",
    "                       joint_Id[i], \n",
    "                       p.POSITION_CONTROL, \n",
    "                       motor_angles, \n",
    "                       motor_force)\n",
    "\n",
    "    # need to separate the range of motion into \"stance\" and \"swing\"\n",
    "\n",
    "#         swing_ratio = .75\n",
    "#         stance_ratio = 1.-swing_ratio\n",
    "        \n",
    "#         motor_force = [0, .005, .005]\n",
    "\n",
    "#         if((math.sin(t + phi[i])) < (swing_ratio*2*math.pi)): #slow down when touching the ground, speed up when off the ground\n",
    "       \n",
    "#             proportion_stance = 2*math.pi / (2*math.pi*stance_ratio)\n",
    "#             t_stance = proportion * (t + phi[i]) + (2*math.pi - 2*math.pi*stance_ratio)\n",
    "\n",
    "#             proportion_thigh_stance = thigh_stance_range /2\n",
    "#             theta_thigh_stance = proportion_thigh_stance * (math.sin(t_stance)) + thigh_stance_min\n",
    "\n",
    "#             proportion_calf_stance = calf_stance_range /2\n",
    "#             theta_calf_stance = proportion_calf_stance * (math.cos(t_stance))  + calf_stance_min\n",
    "\n",
    "#             motor_angles_stance = [0., theta_thigh_stance, theta_calf_stance] \n",
    "\n",
    "#             p.setJointMotorControlArray(quadruped,\n",
    "#                                    joint_Id[i], \n",
    "#                                    p.POSITION_CONTROL, \n",
    "#                                    motor_angles_stance, \n",
    "#                                    motor_force)\n",
    "#         else: \n",
    "#             proportion_swing = 2*math.pi / (2*math.pi*swing_ratio)\n",
    "#             t_swing = proportion * (t + phi[i]) + (2*math.pi - 2*math.pi*swing_ratio)\n",
    "            \n",
    "#             proportion_thigh_swing = thigh_swing_range /2\n",
    "#             theta_thigh_swing = proportion_thigh_swing * (math.sin(t_swing)) + thigh_swing_min\n",
    "\n",
    "#             proportion_calf_swing = calf_swing_range /2\n",
    "#             theta_calf_swing = proportion_calf_swing * (math.cos(t_swing)) + calf_swing_min\n",
    "\n",
    "#             motor_angles_swing = [0., theta_thigh_swing, theta_calf_swing]\n",
    "\n",
    "#             p.setJointMotorControlArray(quadruped,\n",
    "#                                    joint_Id[i], \n",
    "#                                    p.POSITION_CONTROL, \n",
    "#                                    motor_angles_swing, \n",
    "#                                    motor_force)\n",
    "        \n",
    "\n",
    "\n",
    "#         if(i == 1):\n",
    "#             print(theta1)\n",
    "        \n",
    "    "
   ]
  },
  {
   "cell_type": "code",
   "execution_count": 7,
   "id": "94f3c5ab",
   "metadata": {},
   "outputs": [],
   "source": [
    "p.resetSimulation()"
   ]
  },
  {
   "cell_type": "code",
   "execution_count": null,
   "id": "82508367",
   "metadata": {},
   "outputs": [],
   "source": [
    "p.disconnect()"
   ]
  }
 ],
 "metadata": {
  "kernelspec": {
   "display_name": "Python 3 (ipykernel)",
   "language": "python",
   "name": "python3"
  },
  "language_info": {
   "codemirror_mode": {
    "name": "ipython",
    "version": 3
   },
   "file_extension": ".py",
   "mimetype": "text/x-python",
   "name": "python",
   "nbconvert_exporter": "python",
   "pygments_lexer": "ipython3",
   "version": "3.10.4"
  },
  "vscode": {
   "interpreter": {
    "hash": "c99fe1247001ff9689d9faff4dbb0aa981d3b3fc7fcf8f57078ecb9a7c217558"
   }
  }
 },
 "nbformat": 4,
 "nbformat_minor": 5
}
